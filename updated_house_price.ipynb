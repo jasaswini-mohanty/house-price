{
 "cells": [
  {
   "cell_type": "code",
   "execution_count": 1,
   "metadata": {},
   "outputs": [],
   "source": [
    "# deleting the rows having missing values\n",
    "#data1 = data1.dropna(axis = 0)\n",
    "#print(data1.isnull().sum())"
   ]
  },
  {
   "cell_type": "code",
   "execution_count": 1,
   "metadata": {},
   "outputs": [
    {
     "ename": "ModuleNotFoundError",
     "evalue": "No module named 'chart_studio.plotly'",
     "output_type": "error",
     "traceback": [
      "\u001b[1;31m---------------------------------------------------------------------------\u001b[0m",
      "\u001b[1;31mModuleNotFoundError\u001b[0m                       Traceback (most recent call last)",
      "\u001b[1;32m<ipython-input-1-38406f945844>\u001b[0m in \u001b[0;36m<module>\u001b[1;34m\u001b[0m\n\u001b[0;32m      3\u001b[0m \u001b[1;33m\u001b[0m\u001b[0m\n\u001b[0;32m      4\u001b[0m \u001b[1;31m#standard plotly imports\u001b[0m\u001b[1;33m\u001b[0m\u001b[1;33m\u001b[0m\u001b[1;33m\u001b[0m\u001b[0m\n\u001b[1;32m----> 5\u001b[1;33m \u001b[1;32mimport\u001b[0m \u001b[0mchart_studio\u001b[0m\u001b[1;33m.\u001b[0m\u001b[0mplotly\u001b[0m \u001b[1;32mas\u001b[0m \u001b[0mpy\u001b[0m\u001b[1;33m\u001b[0m\u001b[1;33m\u001b[0m\u001b[0m\n\u001b[0m\u001b[0;32m      6\u001b[0m \u001b[1;32mimport\u001b[0m \u001b[0mplotly\u001b[0m\u001b[1;33m.\u001b[0m\u001b[0mgraph_objs\u001b[0m \u001b[1;32mas\u001b[0m \u001b[0mgo\u001b[0m\u001b[1;33m\u001b[0m\u001b[1;33m\u001b[0m\u001b[0m\n\u001b[0;32m      7\u001b[0m \u001b[1;32mfrom\u001b[0m \u001b[0mplotly\u001b[0m\u001b[1;33m.\u001b[0m\u001b[0moffline\u001b[0m \u001b[1;32mimport\u001b[0m \u001b[0miplot\u001b[0m\u001b[1;33m,\u001b[0m \u001b[0minit_notebook_mode\u001b[0m\u001b[1;33m\u001b[0m\u001b[1;33m\u001b[0m\u001b[0m\n",
      "\u001b[1;31mModuleNotFoundError\u001b[0m: No module named 'chart_studio.plotly'"
     ]
    }
   ],
   "source": [
    "import pandas as pd\n",
    "import numpy as np\n",
    "\n",
    "#standard plotly imports\n",
    "import chart_studio.plotly as py\n",
    "import plotly.graph_objs as go\n",
    "from plotly.offline import iplot, init_notebook_mode\n",
    "\n",
    "# using plotly + cufflinks in offline mode\n",
    "import cufflinks\n",
    "cufflinks.go_offline(connected = True)\n",
    "init_notebook_mode(connected = True)\n",
    "pd.set_option(\"max_rows\",3000)\n",
    "print(\"setup complete\")\n",
    "\n",
    "# import matplotlib and seaborn\n",
    "import matplotlib.pyplot as plt\n",
    "import seaborn as sb\n"
   ]
  },
  {
   "cell_type": "code",
   "execution_count": 2,
   "metadata": {},
   "outputs": [],
   "source": [
    "# importing the data\n",
    "test = pd.read_csv(\"F:\\\\projects\\\\house_price\\\\Test.csv\", index_col = \"Id\")\n",
    "train = pd.read_csv(\"F:\\\\projects\\\\house_price\\\\train.csv\", index_col = \"Id\")\n"
   ]
  },
  {
   "cell_type": "code",
   "execution_count": 3,
   "metadata": {},
   "outputs": [
    {
     "name": "stdout",
     "output_type": "stream",
     "text": [
      "(1460, 80)\n",
      "(1459, 79)\n"
     ]
    }
   ],
   "source": [
    "# getting the dimensions of the data\n",
    "print(train.shape)\n",
    "print(test.shape)"
   ]
  },
  {
   "cell_type": "code",
   "execution_count": 4,
   "metadata": {},
   "outputs": [
    {
     "name": "stdout",
     "output_type": "stream",
     "text": [
      "(2919, 80)\n"
     ]
    },
    {
     "name": "stderr",
     "output_type": "stream",
     "text": [
      "c:\\users\\lenovo\\appdata\\local\\programs\\python\\python37\\lib\\site-packages\\ipykernel_launcher.py:2: FutureWarning: Sorting because non-concatenation axis is not aligned. A future version\n",
      "of pandas will change to not sort by default.\n",
      "\n",
      "To accept the future behavior, pass 'sort=False'.\n",
      "\n",
      "To retain the current behavior and silence the warning, pass 'sort=True'.\n",
      "\n",
      "  \n"
     ]
    },
    {
     "data": {
      "text/html": [
       "<div>\n",
       "<style scoped>\n",
       "    .dataframe tbody tr th:only-of-type {\n",
       "        vertical-align: middle;\n",
       "    }\n",
       "\n",
       "    .dataframe tbody tr th {\n",
       "        vertical-align: top;\n",
       "    }\n",
       "\n",
       "    .dataframe thead th {\n",
       "        text-align: right;\n",
       "    }\n",
       "</style>\n",
       "<table border=\"1\" class=\"dataframe\">\n",
       "  <thead>\n",
       "    <tr style=\"text-align: right;\">\n",
       "      <th></th>\n",
       "      <th>1stFlrSF</th>\n",
       "      <th>2ndFlrSF</th>\n",
       "      <th>3SsnPorch</th>\n",
       "      <th>Alley</th>\n",
       "      <th>BedroomAbvGr</th>\n",
       "      <th>BldgType</th>\n",
       "      <th>BsmtCond</th>\n",
       "      <th>BsmtExposure</th>\n",
       "      <th>BsmtFinSF1</th>\n",
       "      <th>BsmtFinSF2</th>\n",
       "      <th>...</th>\n",
       "      <th>SaleType</th>\n",
       "      <th>ScreenPorch</th>\n",
       "      <th>Street</th>\n",
       "      <th>TotRmsAbvGrd</th>\n",
       "      <th>TotalBsmtSF</th>\n",
       "      <th>Utilities</th>\n",
       "      <th>WoodDeckSF</th>\n",
       "      <th>YearBuilt</th>\n",
       "      <th>YearRemodAdd</th>\n",
       "      <th>YrSold</th>\n",
       "    </tr>\n",
       "    <tr>\n",
       "      <th>Id</th>\n",
       "      <th></th>\n",
       "      <th></th>\n",
       "      <th></th>\n",
       "      <th></th>\n",
       "      <th></th>\n",
       "      <th></th>\n",
       "      <th></th>\n",
       "      <th></th>\n",
       "      <th></th>\n",
       "      <th></th>\n",
       "      <th></th>\n",
       "      <th></th>\n",
       "      <th></th>\n",
       "      <th></th>\n",
       "      <th></th>\n",
       "      <th></th>\n",
       "      <th></th>\n",
       "      <th></th>\n",
       "      <th></th>\n",
       "      <th></th>\n",
       "      <th></th>\n",
       "    </tr>\n",
       "  </thead>\n",
       "  <tbody>\n",
       "    <tr>\n",
       "      <td>1</td>\n",
       "      <td>856</td>\n",
       "      <td>854</td>\n",
       "      <td>0</td>\n",
       "      <td>NaN</td>\n",
       "      <td>3</td>\n",
       "      <td>1Fam</td>\n",
       "      <td>TA</td>\n",
       "      <td>No</td>\n",
       "      <td>706.0</td>\n",
       "      <td>0.0</td>\n",
       "      <td>...</td>\n",
       "      <td>WD</td>\n",
       "      <td>0</td>\n",
       "      <td>Pave</td>\n",
       "      <td>8</td>\n",
       "      <td>856.0</td>\n",
       "      <td>AllPub</td>\n",
       "      <td>0</td>\n",
       "      <td>2003</td>\n",
       "      <td>2003</td>\n",
       "      <td>2008</td>\n",
       "    </tr>\n",
       "    <tr>\n",
       "      <td>2</td>\n",
       "      <td>1262</td>\n",
       "      <td>0</td>\n",
       "      <td>0</td>\n",
       "      <td>NaN</td>\n",
       "      <td>3</td>\n",
       "      <td>1Fam</td>\n",
       "      <td>TA</td>\n",
       "      <td>Gd</td>\n",
       "      <td>978.0</td>\n",
       "      <td>0.0</td>\n",
       "      <td>...</td>\n",
       "      <td>WD</td>\n",
       "      <td>0</td>\n",
       "      <td>Pave</td>\n",
       "      <td>6</td>\n",
       "      <td>1262.0</td>\n",
       "      <td>AllPub</td>\n",
       "      <td>298</td>\n",
       "      <td>1976</td>\n",
       "      <td>1976</td>\n",
       "      <td>2007</td>\n",
       "    </tr>\n",
       "    <tr>\n",
       "      <td>3</td>\n",
       "      <td>920</td>\n",
       "      <td>866</td>\n",
       "      <td>0</td>\n",
       "      <td>NaN</td>\n",
       "      <td>3</td>\n",
       "      <td>1Fam</td>\n",
       "      <td>TA</td>\n",
       "      <td>Mn</td>\n",
       "      <td>486.0</td>\n",
       "      <td>0.0</td>\n",
       "      <td>...</td>\n",
       "      <td>WD</td>\n",
       "      <td>0</td>\n",
       "      <td>Pave</td>\n",
       "      <td>6</td>\n",
       "      <td>920.0</td>\n",
       "      <td>AllPub</td>\n",
       "      <td>0</td>\n",
       "      <td>2001</td>\n",
       "      <td>2002</td>\n",
       "      <td>2008</td>\n",
       "    </tr>\n",
       "    <tr>\n",
       "      <td>4</td>\n",
       "      <td>961</td>\n",
       "      <td>756</td>\n",
       "      <td>0</td>\n",
       "      <td>NaN</td>\n",
       "      <td>3</td>\n",
       "      <td>1Fam</td>\n",
       "      <td>Gd</td>\n",
       "      <td>No</td>\n",
       "      <td>216.0</td>\n",
       "      <td>0.0</td>\n",
       "      <td>...</td>\n",
       "      <td>WD</td>\n",
       "      <td>0</td>\n",
       "      <td>Pave</td>\n",
       "      <td>7</td>\n",
       "      <td>756.0</td>\n",
       "      <td>AllPub</td>\n",
       "      <td>0</td>\n",
       "      <td>1915</td>\n",
       "      <td>1970</td>\n",
       "      <td>2006</td>\n",
       "    </tr>\n",
       "    <tr>\n",
       "      <td>5</td>\n",
       "      <td>1145</td>\n",
       "      <td>1053</td>\n",
       "      <td>0</td>\n",
       "      <td>NaN</td>\n",
       "      <td>4</td>\n",
       "      <td>1Fam</td>\n",
       "      <td>TA</td>\n",
       "      <td>Av</td>\n",
       "      <td>655.0</td>\n",
       "      <td>0.0</td>\n",
       "      <td>...</td>\n",
       "      <td>WD</td>\n",
       "      <td>0</td>\n",
       "      <td>Pave</td>\n",
       "      <td>9</td>\n",
       "      <td>1145.0</td>\n",
       "      <td>AllPub</td>\n",
       "      <td>192</td>\n",
       "      <td>2000</td>\n",
       "      <td>2000</td>\n",
       "      <td>2008</td>\n",
       "    </tr>\n",
       "    <tr>\n",
       "      <td>...</td>\n",
       "      <td>...</td>\n",
       "      <td>...</td>\n",
       "      <td>...</td>\n",
       "      <td>...</td>\n",
       "      <td>...</td>\n",
       "      <td>...</td>\n",
       "      <td>...</td>\n",
       "      <td>...</td>\n",
       "      <td>...</td>\n",
       "      <td>...</td>\n",
       "      <td>...</td>\n",
       "      <td>...</td>\n",
       "      <td>...</td>\n",
       "      <td>...</td>\n",
       "      <td>...</td>\n",
       "      <td>...</td>\n",
       "      <td>...</td>\n",
       "      <td>...</td>\n",
       "      <td>...</td>\n",
       "      <td>...</td>\n",
       "      <td>...</td>\n",
       "    </tr>\n",
       "    <tr>\n",
       "      <td>2915</td>\n",
       "      <td>546</td>\n",
       "      <td>546</td>\n",
       "      <td>0</td>\n",
       "      <td>NaN</td>\n",
       "      <td>3</td>\n",
       "      <td>Twnhs</td>\n",
       "      <td>TA</td>\n",
       "      <td>No</td>\n",
       "      <td>0.0</td>\n",
       "      <td>0.0</td>\n",
       "      <td>...</td>\n",
       "      <td>WD</td>\n",
       "      <td>0</td>\n",
       "      <td>Pave</td>\n",
       "      <td>5</td>\n",
       "      <td>546.0</td>\n",
       "      <td>AllPub</td>\n",
       "      <td>0</td>\n",
       "      <td>1970</td>\n",
       "      <td>1970</td>\n",
       "      <td>2006</td>\n",
       "    </tr>\n",
       "    <tr>\n",
       "      <td>2916</td>\n",
       "      <td>546</td>\n",
       "      <td>546</td>\n",
       "      <td>0</td>\n",
       "      <td>NaN</td>\n",
       "      <td>3</td>\n",
       "      <td>TwnhsE</td>\n",
       "      <td>TA</td>\n",
       "      <td>No</td>\n",
       "      <td>252.0</td>\n",
       "      <td>0.0</td>\n",
       "      <td>...</td>\n",
       "      <td>WD</td>\n",
       "      <td>0</td>\n",
       "      <td>Pave</td>\n",
       "      <td>6</td>\n",
       "      <td>546.0</td>\n",
       "      <td>AllPub</td>\n",
       "      <td>0</td>\n",
       "      <td>1970</td>\n",
       "      <td>1970</td>\n",
       "      <td>2006</td>\n",
       "    </tr>\n",
       "    <tr>\n",
       "      <td>2917</td>\n",
       "      <td>1224</td>\n",
       "      <td>0</td>\n",
       "      <td>0</td>\n",
       "      <td>NaN</td>\n",
       "      <td>4</td>\n",
       "      <td>1Fam</td>\n",
       "      <td>TA</td>\n",
       "      <td>No</td>\n",
       "      <td>1224.0</td>\n",
       "      <td>0.0</td>\n",
       "      <td>...</td>\n",
       "      <td>WD</td>\n",
       "      <td>0</td>\n",
       "      <td>Pave</td>\n",
       "      <td>7</td>\n",
       "      <td>1224.0</td>\n",
       "      <td>AllPub</td>\n",
       "      <td>474</td>\n",
       "      <td>1960</td>\n",
       "      <td>1996</td>\n",
       "      <td>2006</td>\n",
       "    </tr>\n",
       "    <tr>\n",
       "      <td>2918</td>\n",
       "      <td>970</td>\n",
       "      <td>0</td>\n",
       "      <td>0</td>\n",
       "      <td>NaN</td>\n",
       "      <td>3</td>\n",
       "      <td>1Fam</td>\n",
       "      <td>TA</td>\n",
       "      <td>Av</td>\n",
       "      <td>337.0</td>\n",
       "      <td>0.0</td>\n",
       "      <td>...</td>\n",
       "      <td>WD</td>\n",
       "      <td>0</td>\n",
       "      <td>Pave</td>\n",
       "      <td>6</td>\n",
       "      <td>912.0</td>\n",
       "      <td>AllPub</td>\n",
       "      <td>80</td>\n",
       "      <td>1992</td>\n",
       "      <td>1992</td>\n",
       "      <td>2006</td>\n",
       "    </tr>\n",
       "    <tr>\n",
       "      <td>2919</td>\n",
       "      <td>996</td>\n",
       "      <td>1004</td>\n",
       "      <td>0</td>\n",
       "      <td>NaN</td>\n",
       "      <td>3</td>\n",
       "      <td>1Fam</td>\n",
       "      <td>TA</td>\n",
       "      <td>Av</td>\n",
       "      <td>758.0</td>\n",
       "      <td>0.0</td>\n",
       "      <td>...</td>\n",
       "      <td>WD</td>\n",
       "      <td>0</td>\n",
       "      <td>Pave</td>\n",
       "      <td>9</td>\n",
       "      <td>996.0</td>\n",
       "      <td>AllPub</td>\n",
       "      <td>190</td>\n",
       "      <td>1993</td>\n",
       "      <td>1994</td>\n",
       "      <td>2006</td>\n",
       "    </tr>\n",
       "  </tbody>\n",
       "</table>\n",
       "<p>2919 rows × 80 columns</p>\n",
       "</div>"
      ],
      "text/plain": [
       "      1stFlrSF  2ndFlrSF  3SsnPorch Alley  BedroomAbvGr BldgType BsmtCond  \\\n",
       "Id                                                                          \n",
       "1          856       854          0   NaN             3     1Fam       TA   \n",
       "2         1262         0          0   NaN             3     1Fam       TA   \n",
       "3          920       866          0   NaN             3     1Fam       TA   \n",
       "4          961       756          0   NaN             3     1Fam       Gd   \n",
       "5         1145      1053          0   NaN             4     1Fam       TA   \n",
       "...        ...       ...        ...   ...           ...      ...      ...   \n",
       "2915       546       546          0   NaN             3    Twnhs       TA   \n",
       "2916       546       546          0   NaN             3   TwnhsE       TA   \n",
       "2917      1224         0          0   NaN             4     1Fam       TA   \n",
       "2918       970         0          0   NaN             3     1Fam       TA   \n",
       "2919       996      1004          0   NaN             3     1Fam       TA   \n",
       "\n",
       "     BsmtExposure  BsmtFinSF1  BsmtFinSF2  ... SaleType ScreenPorch  Street  \\\n",
       "Id                                         ...                                \n",
       "1              No       706.0         0.0  ...       WD           0    Pave   \n",
       "2              Gd       978.0         0.0  ...       WD           0    Pave   \n",
       "3              Mn       486.0         0.0  ...       WD           0    Pave   \n",
       "4              No       216.0         0.0  ...       WD           0    Pave   \n",
       "5              Av       655.0         0.0  ...       WD           0    Pave   \n",
       "...           ...         ...         ...  ...      ...         ...     ...   \n",
       "2915           No         0.0         0.0  ...       WD           0    Pave   \n",
       "2916           No       252.0         0.0  ...       WD           0    Pave   \n",
       "2917           No      1224.0         0.0  ...       WD           0    Pave   \n",
       "2918           Av       337.0         0.0  ...       WD           0    Pave   \n",
       "2919           Av       758.0         0.0  ...       WD           0    Pave   \n",
       "\n",
       "      TotRmsAbvGrd TotalBsmtSF  Utilities WoodDeckSF YearBuilt YearRemodAdd  \\\n",
       "Id                                                                            \n",
       "1                8       856.0     AllPub          0      2003         2003   \n",
       "2                6      1262.0     AllPub        298      1976         1976   \n",
       "3                6       920.0     AllPub          0      2001         2002   \n",
       "4                7       756.0     AllPub          0      1915         1970   \n",
       "5                9      1145.0     AllPub        192      2000         2000   \n",
       "...            ...         ...        ...        ...       ...          ...   \n",
       "2915             5       546.0     AllPub          0      1970         1970   \n",
       "2916             6       546.0     AllPub          0      1970         1970   \n",
       "2917             7      1224.0     AllPub        474      1960         1996   \n",
       "2918             6       912.0     AllPub         80      1992         1992   \n",
       "2919             9       996.0     AllPub        190      1993         1994   \n",
       "\n",
       "     YrSold  \n",
       "Id           \n",
       "1      2008  \n",
       "2      2007  \n",
       "3      2008  \n",
       "4      2006  \n",
       "5      2008  \n",
       "...     ...  \n",
       "2915   2006  \n",
       "2916   2006  \n",
       "2917   2006  \n",
       "2918   2006  \n",
       "2919   2006  \n",
       "\n",
       "[2919 rows x 80 columns]"
      ]
     },
     "metadata": {},
     "output_type": "display_data"
    }
   ],
   "source": [
    "# merging the data\n",
    "data = pd.concat([train,test],join = \"outer\")\n",
    "print(data.shape)\n",
    "display(data)"
   ]
  },
  {
   "cell_type": "code",
   "execution_count": 5,
   "metadata": {},
   "outputs": [
    {
     "name": "stdout",
     "output_type": "stream",
     "text": [
      "<class 'pandas.core.frame.DataFrame'>\n",
      "Int64Index: 2919 entries, 1 to 2919\n",
      "Data columns (total 80 columns):\n",
      "1stFlrSF         2919 non-null int64\n",
      "2ndFlrSF         2919 non-null int64\n",
      "3SsnPorch        2919 non-null int64\n",
      "Alley            198 non-null object\n",
      "BedroomAbvGr     2919 non-null int64\n",
      "BldgType         2919 non-null object\n",
      "BsmtCond         2837 non-null object\n",
      "BsmtExposure     2837 non-null object\n",
      "BsmtFinSF1       2918 non-null float64\n",
      "BsmtFinSF2       2918 non-null float64\n",
      "BsmtFinType1     2840 non-null object\n",
      "BsmtFinType2     2839 non-null object\n",
      "BsmtFullBath     2917 non-null float64\n",
      "BsmtHalfBath     2917 non-null float64\n",
      "BsmtQual         2838 non-null object\n",
      "BsmtUnfSF        2918 non-null float64\n",
      "CentralAir       2919 non-null object\n",
      "Condition1       2919 non-null object\n",
      "Condition2       2919 non-null object\n",
      "Electrical       2918 non-null object\n",
      "EnclosedPorch    2919 non-null int64\n",
      "ExterCond        2919 non-null object\n",
      "ExterQual        2919 non-null object\n",
      "Exterior1st      2918 non-null object\n",
      "Exterior2nd      2918 non-null object\n",
      "Fence            571 non-null object\n",
      "FireplaceQu      1499 non-null object\n",
      "Fireplaces       2919 non-null int64\n",
      "Foundation       2919 non-null object\n",
      "FullBath         2919 non-null int64\n",
      "Functional       2917 non-null object\n",
      "GarageArea       2918 non-null float64\n",
      "GarageCars       2918 non-null float64\n",
      "GarageCond       2760 non-null object\n",
      "GarageFinish     2760 non-null object\n",
      "GarageQual       2760 non-null object\n",
      "GarageType       2762 non-null object\n",
      "GarageYrBlt      2760 non-null float64\n",
      "GrLivArea        2919 non-null int64\n",
      "HalfBath         2919 non-null int64\n",
      "Heating          2919 non-null object\n",
      "HeatingQC        2919 non-null object\n",
      "HouseStyle       2919 non-null object\n",
      "KitchenAbvGr     2919 non-null int64\n",
      "KitchenQual      2918 non-null object\n",
      "LandContour      2919 non-null object\n",
      "LandSlope        2919 non-null object\n",
      "LotArea          2919 non-null int64\n",
      "LotConfig        2919 non-null object\n",
      "LotFrontage      2433 non-null float64\n",
      "LotShape         2919 non-null object\n",
      "LowQualFinSF     2919 non-null int64\n",
      "MSSubClass       2919 non-null int64\n",
      "MSZoning         2915 non-null object\n",
      "MasVnrArea       2896 non-null float64\n",
      "MasVnrType       2895 non-null object\n",
      "MiscFeature      105 non-null object\n",
      "MiscVal          2919 non-null int64\n",
      "MoSold           2919 non-null int64\n",
      "Neighborhood     2919 non-null object\n",
      "OpenPorchSF      2919 non-null int64\n",
      "OverallCond      2919 non-null int64\n",
      "OverallQual      2919 non-null int64\n",
      "PavedDrive       2919 non-null object\n",
      "PoolArea         2919 non-null int64\n",
      "PoolQC           10 non-null object\n",
      "RoofMatl         2919 non-null object\n",
      "RoofStyle        2919 non-null object\n",
      "SaleCondition    2919 non-null object\n",
      "SalePrice        1460 non-null float64\n",
      "SaleType         2918 non-null object\n",
      "ScreenPorch      2919 non-null int64\n",
      "Street           2919 non-null object\n",
      "TotRmsAbvGrd     2919 non-null int64\n",
      "TotalBsmtSF      2918 non-null float64\n",
      "Utilities        2917 non-null object\n",
      "WoodDeckSF       2919 non-null int64\n",
      "YearBuilt        2919 non-null int64\n",
      "YearRemodAdd     2919 non-null int64\n",
      "YrSold           2919 non-null int64\n",
      "dtypes: float64(12), int64(25), object(43)\n",
      "memory usage: 1.8+ MB\n"
     ]
    }
   ],
   "source": [
    "data.info()"
   ]
  },
  {
   "cell_type": "code",
   "execution_count": 6,
   "metadata": {},
   "outputs": [
    {
     "data": {
      "text/html": [
       "<div>\n",
       "<style scoped>\n",
       "    .dataframe tbody tr th:only-of-type {\n",
       "        vertical-align: middle;\n",
       "    }\n",
       "\n",
       "    .dataframe tbody tr th {\n",
       "        vertical-align: top;\n",
       "    }\n",
       "\n",
       "    .dataframe thead th {\n",
       "        text-align: right;\n",
       "    }\n",
       "</style>\n",
       "<table border=\"1\" class=\"dataframe\">\n",
       "  <thead>\n",
       "    <tr style=\"text-align: right;\">\n",
       "      <th></th>\n",
       "      <th>1stFlrSF</th>\n",
       "      <th>2ndFlrSF</th>\n",
       "      <th>3SsnPorch</th>\n",
       "      <th>Alley</th>\n",
       "      <th>BedroomAbvGr</th>\n",
       "      <th>BldgType</th>\n",
       "      <th>BsmtCond</th>\n",
       "      <th>BsmtExposure</th>\n",
       "      <th>BsmtFinSF1</th>\n",
       "      <th>BsmtFinSF2</th>\n",
       "      <th>...</th>\n",
       "      <th>SaleType</th>\n",
       "      <th>ScreenPorch</th>\n",
       "      <th>Street</th>\n",
       "      <th>TotRmsAbvGrd</th>\n",
       "      <th>TotalBsmtSF</th>\n",
       "      <th>Utilities</th>\n",
       "      <th>WoodDeckSF</th>\n",
       "      <th>YearBuilt</th>\n",
       "      <th>YearRemodAdd</th>\n",
       "      <th>YrSold</th>\n",
       "    </tr>\n",
       "  </thead>\n",
       "  <tbody>\n",
       "    <tr>\n",
       "      <td>count</td>\n",
       "      <td>2919.000000</td>\n",
       "      <td>2919.000000</td>\n",
       "      <td>2919.000000</td>\n",
       "      <td>198</td>\n",
       "      <td>2919.000000</td>\n",
       "      <td>2919</td>\n",
       "      <td>2837</td>\n",
       "      <td>2837</td>\n",
       "      <td>2918.000000</td>\n",
       "      <td>2918.000000</td>\n",
       "      <td>...</td>\n",
       "      <td>2918</td>\n",
       "      <td>2919.000000</td>\n",
       "      <td>2919</td>\n",
       "      <td>2919.000000</td>\n",
       "      <td>2918.000000</td>\n",
       "      <td>2917</td>\n",
       "      <td>2919.000000</td>\n",
       "      <td>2919.000000</td>\n",
       "      <td>2919.000000</td>\n",
       "      <td>2919.000000</td>\n",
       "    </tr>\n",
       "    <tr>\n",
       "      <td>unique</td>\n",
       "      <td>NaN</td>\n",
       "      <td>NaN</td>\n",
       "      <td>NaN</td>\n",
       "      <td>2</td>\n",
       "      <td>NaN</td>\n",
       "      <td>5</td>\n",
       "      <td>4</td>\n",
       "      <td>4</td>\n",
       "      <td>NaN</td>\n",
       "      <td>NaN</td>\n",
       "      <td>...</td>\n",
       "      <td>9</td>\n",
       "      <td>NaN</td>\n",
       "      <td>2</td>\n",
       "      <td>NaN</td>\n",
       "      <td>NaN</td>\n",
       "      <td>2</td>\n",
       "      <td>NaN</td>\n",
       "      <td>NaN</td>\n",
       "      <td>NaN</td>\n",
       "      <td>NaN</td>\n",
       "    </tr>\n",
       "    <tr>\n",
       "      <td>top</td>\n",
       "      <td>NaN</td>\n",
       "      <td>NaN</td>\n",
       "      <td>NaN</td>\n",
       "      <td>Grvl</td>\n",
       "      <td>NaN</td>\n",
       "      <td>1Fam</td>\n",
       "      <td>TA</td>\n",
       "      <td>No</td>\n",
       "      <td>NaN</td>\n",
       "      <td>NaN</td>\n",
       "      <td>...</td>\n",
       "      <td>WD</td>\n",
       "      <td>NaN</td>\n",
       "      <td>Pave</td>\n",
       "      <td>NaN</td>\n",
       "      <td>NaN</td>\n",
       "      <td>AllPub</td>\n",
       "      <td>NaN</td>\n",
       "      <td>NaN</td>\n",
       "      <td>NaN</td>\n",
       "      <td>NaN</td>\n",
       "    </tr>\n",
       "    <tr>\n",
       "      <td>freq</td>\n",
       "      <td>NaN</td>\n",
       "      <td>NaN</td>\n",
       "      <td>NaN</td>\n",
       "      <td>120</td>\n",
       "      <td>NaN</td>\n",
       "      <td>2425</td>\n",
       "      <td>2606</td>\n",
       "      <td>1904</td>\n",
       "      <td>NaN</td>\n",
       "      <td>NaN</td>\n",
       "      <td>...</td>\n",
       "      <td>2525</td>\n",
       "      <td>NaN</td>\n",
       "      <td>2907</td>\n",
       "      <td>NaN</td>\n",
       "      <td>NaN</td>\n",
       "      <td>2916</td>\n",
       "      <td>NaN</td>\n",
       "      <td>NaN</td>\n",
       "      <td>NaN</td>\n",
       "      <td>NaN</td>\n",
       "    </tr>\n",
       "    <tr>\n",
       "      <td>mean</td>\n",
       "      <td>1159.581706</td>\n",
       "      <td>336.483727</td>\n",
       "      <td>2.602261</td>\n",
       "      <td>NaN</td>\n",
       "      <td>2.860226</td>\n",
       "      <td>NaN</td>\n",
       "      <td>NaN</td>\n",
       "      <td>NaN</td>\n",
       "      <td>441.423235</td>\n",
       "      <td>49.582248</td>\n",
       "      <td>...</td>\n",
       "      <td>NaN</td>\n",
       "      <td>16.062350</td>\n",
       "      <td>NaN</td>\n",
       "      <td>6.451524</td>\n",
       "      <td>1051.777587</td>\n",
       "      <td>NaN</td>\n",
       "      <td>93.709832</td>\n",
       "      <td>1971.312778</td>\n",
       "      <td>1984.264474</td>\n",
       "      <td>2007.792737</td>\n",
       "    </tr>\n",
       "    <tr>\n",
       "      <td>std</td>\n",
       "      <td>392.362079</td>\n",
       "      <td>428.701456</td>\n",
       "      <td>25.188169</td>\n",
       "      <td>NaN</td>\n",
       "      <td>0.822693</td>\n",
       "      <td>NaN</td>\n",
       "      <td>NaN</td>\n",
       "      <td>NaN</td>\n",
       "      <td>455.610826</td>\n",
       "      <td>169.205611</td>\n",
       "      <td>...</td>\n",
       "      <td>NaN</td>\n",
       "      <td>56.184365</td>\n",
       "      <td>NaN</td>\n",
       "      <td>1.569379</td>\n",
       "      <td>440.766258</td>\n",
       "      <td>NaN</td>\n",
       "      <td>126.526589</td>\n",
       "      <td>30.291442</td>\n",
       "      <td>20.894344</td>\n",
       "      <td>1.314964</td>\n",
       "    </tr>\n",
       "    <tr>\n",
       "      <td>min</td>\n",
       "      <td>334.000000</td>\n",
       "      <td>0.000000</td>\n",
       "      <td>0.000000</td>\n",
       "      <td>NaN</td>\n",
       "      <td>0.000000</td>\n",
       "      <td>NaN</td>\n",
       "      <td>NaN</td>\n",
       "      <td>NaN</td>\n",
       "      <td>0.000000</td>\n",
       "      <td>0.000000</td>\n",
       "      <td>...</td>\n",
       "      <td>NaN</td>\n",
       "      <td>0.000000</td>\n",
       "      <td>NaN</td>\n",
       "      <td>2.000000</td>\n",
       "      <td>0.000000</td>\n",
       "      <td>NaN</td>\n",
       "      <td>0.000000</td>\n",
       "      <td>1872.000000</td>\n",
       "      <td>1950.000000</td>\n",
       "      <td>2006.000000</td>\n",
       "    </tr>\n",
       "    <tr>\n",
       "      <td>25%</td>\n",
       "      <td>876.000000</td>\n",
       "      <td>0.000000</td>\n",
       "      <td>0.000000</td>\n",
       "      <td>NaN</td>\n",
       "      <td>2.000000</td>\n",
       "      <td>NaN</td>\n",
       "      <td>NaN</td>\n",
       "      <td>NaN</td>\n",
       "      <td>0.000000</td>\n",
       "      <td>0.000000</td>\n",
       "      <td>...</td>\n",
       "      <td>NaN</td>\n",
       "      <td>0.000000</td>\n",
       "      <td>NaN</td>\n",
       "      <td>5.000000</td>\n",
       "      <td>793.000000</td>\n",
       "      <td>NaN</td>\n",
       "      <td>0.000000</td>\n",
       "      <td>1953.500000</td>\n",
       "      <td>1965.000000</td>\n",
       "      <td>2007.000000</td>\n",
       "    </tr>\n",
       "    <tr>\n",
       "      <td>50%</td>\n",
       "      <td>1082.000000</td>\n",
       "      <td>0.000000</td>\n",
       "      <td>0.000000</td>\n",
       "      <td>NaN</td>\n",
       "      <td>3.000000</td>\n",
       "      <td>NaN</td>\n",
       "      <td>NaN</td>\n",
       "      <td>NaN</td>\n",
       "      <td>368.500000</td>\n",
       "      <td>0.000000</td>\n",
       "      <td>...</td>\n",
       "      <td>NaN</td>\n",
       "      <td>0.000000</td>\n",
       "      <td>NaN</td>\n",
       "      <td>6.000000</td>\n",
       "      <td>989.500000</td>\n",
       "      <td>NaN</td>\n",
       "      <td>0.000000</td>\n",
       "      <td>1973.000000</td>\n",
       "      <td>1993.000000</td>\n",
       "      <td>2008.000000</td>\n",
       "    </tr>\n",
       "    <tr>\n",
       "      <td>75%</td>\n",
       "      <td>1387.500000</td>\n",
       "      <td>704.000000</td>\n",
       "      <td>0.000000</td>\n",
       "      <td>NaN</td>\n",
       "      <td>3.000000</td>\n",
       "      <td>NaN</td>\n",
       "      <td>NaN</td>\n",
       "      <td>NaN</td>\n",
       "      <td>733.000000</td>\n",
       "      <td>0.000000</td>\n",
       "      <td>...</td>\n",
       "      <td>NaN</td>\n",
       "      <td>0.000000</td>\n",
       "      <td>NaN</td>\n",
       "      <td>7.000000</td>\n",
       "      <td>1302.000000</td>\n",
       "      <td>NaN</td>\n",
       "      <td>168.000000</td>\n",
       "      <td>2001.000000</td>\n",
       "      <td>2004.000000</td>\n",
       "      <td>2009.000000</td>\n",
       "    </tr>\n",
       "    <tr>\n",
       "      <td>max</td>\n",
       "      <td>5095.000000</td>\n",
       "      <td>2065.000000</td>\n",
       "      <td>508.000000</td>\n",
       "      <td>NaN</td>\n",
       "      <td>8.000000</td>\n",
       "      <td>NaN</td>\n",
       "      <td>NaN</td>\n",
       "      <td>NaN</td>\n",
       "      <td>5644.000000</td>\n",
       "      <td>1526.000000</td>\n",
       "      <td>...</td>\n",
       "      <td>NaN</td>\n",
       "      <td>576.000000</td>\n",
       "      <td>NaN</td>\n",
       "      <td>15.000000</td>\n",
       "      <td>6110.000000</td>\n",
       "      <td>NaN</td>\n",
       "      <td>1424.000000</td>\n",
       "      <td>2010.000000</td>\n",
       "      <td>2010.000000</td>\n",
       "      <td>2010.000000</td>\n",
       "    </tr>\n",
       "  </tbody>\n",
       "</table>\n",
       "<p>11 rows × 80 columns</p>\n",
       "</div>"
      ],
      "text/plain": [
       "           1stFlrSF     2ndFlrSF    3SsnPorch Alley  BedroomAbvGr BldgType  \\\n",
       "count   2919.000000  2919.000000  2919.000000   198   2919.000000     2919   \n",
       "unique          NaN          NaN          NaN     2           NaN        5   \n",
       "top             NaN          NaN          NaN  Grvl           NaN     1Fam   \n",
       "freq            NaN          NaN          NaN   120           NaN     2425   \n",
       "mean    1159.581706   336.483727     2.602261   NaN      2.860226      NaN   \n",
       "std      392.362079   428.701456    25.188169   NaN      0.822693      NaN   \n",
       "min      334.000000     0.000000     0.000000   NaN      0.000000      NaN   \n",
       "25%      876.000000     0.000000     0.000000   NaN      2.000000      NaN   \n",
       "50%     1082.000000     0.000000     0.000000   NaN      3.000000      NaN   \n",
       "75%     1387.500000   704.000000     0.000000   NaN      3.000000      NaN   \n",
       "max     5095.000000  2065.000000   508.000000   NaN      8.000000      NaN   \n",
       "\n",
       "       BsmtCond BsmtExposure   BsmtFinSF1   BsmtFinSF2  ... SaleType  \\\n",
       "count      2837         2837  2918.000000  2918.000000  ...     2918   \n",
       "unique        4            4          NaN          NaN  ...        9   \n",
       "top          TA           No          NaN          NaN  ...       WD   \n",
       "freq       2606         1904          NaN          NaN  ...     2525   \n",
       "mean        NaN          NaN   441.423235    49.582248  ...      NaN   \n",
       "std         NaN          NaN   455.610826   169.205611  ...      NaN   \n",
       "min         NaN          NaN     0.000000     0.000000  ...      NaN   \n",
       "25%         NaN          NaN     0.000000     0.000000  ...      NaN   \n",
       "50%         NaN          NaN   368.500000     0.000000  ...      NaN   \n",
       "75%         NaN          NaN   733.000000     0.000000  ...      NaN   \n",
       "max         NaN          NaN  5644.000000  1526.000000  ...      NaN   \n",
       "\n",
       "        ScreenPorch  Street  TotRmsAbvGrd  TotalBsmtSF  Utilities  \\\n",
       "count   2919.000000    2919   2919.000000  2918.000000       2917   \n",
       "unique          NaN       2           NaN          NaN          2   \n",
       "top             NaN    Pave           NaN          NaN     AllPub   \n",
       "freq            NaN    2907           NaN          NaN       2916   \n",
       "mean      16.062350     NaN      6.451524  1051.777587        NaN   \n",
       "std       56.184365     NaN      1.569379   440.766258        NaN   \n",
       "min        0.000000     NaN      2.000000     0.000000        NaN   \n",
       "25%        0.000000     NaN      5.000000   793.000000        NaN   \n",
       "50%        0.000000     NaN      6.000000   989.500000        NaN   \n",
       "75%        0.000000     NaN      7.000000  1302.000000        NaN   \n",
       "max      576.000000     NaN     15.000000  6110.000000        NaN   \n",
       "\n",
       "         WoodDeckSF    YearBuilt YearRemodAdd       YrSold  \n",
       "count   2919.000000  2919.000000  2919.000000  2919.000000  \n",
       "unique          NaN          NaN          NaN          NaN  \n",
       "top             NaN          NaN          NaN          NaN  \n",
       "freq            NaN          NaN          NaN          NaN  \n",
       "mean      93.709832  1971.312778  1984.264474  2007.792737  \n",
       "std      126.526589    30.291442    20.894344     1.314964  \n",
       "min        0.000000  1872.000000  1950.000000  2006.000000  \n",
       "25%        0.000000  1953.500000  1965.000000  2007.000000  \n",
       "50%        0.000000  1973.000000  1993.000000  2008.000000  \n",
       "75%      168.000000  2001.000000  2004.000000  2009.000000  \n",
       "max     1424.000000  2010.000000  2010.000000  2010.000000  \n",
       "\n",
       "[11 rows x 80 columns]"
      ]
     },
     "execution_count": 6,
     "metadata": {},
     "output_type": "execute_result"
    }
   ],
   "source": [
    "data.describe(include = \"all\") # missing values found"
   ]
  },
  {
   "cell_type": "code",
   "execution_count": 7,
   "metadata": {},
   "outputs": [
    {
     "data": {
      "text/plain": [
       "PoolQC          99.657417\n",
       "MiscFeature     96.402878\n",
       "Alley           93.216855\n",
       "Fence           80.438506\n",
       "SalePrice       49.982871\n",
       "                  ...    \n",
       "KitchenAbvGr     0.000000\n",
       "HouseStyle       0.000000\n",
       "HeatingQC        0.000000\n",
       "Heating          0.000000\n",
       "1stFlrSF         0.000000\n",
       "Length: 80, dtype: float64"
      ]
     },
     "execution_count": 7,
     "metadata": {},
     "output_type": "execute_result"
    }
   ],
   "source": [
    "#Extracing the column names having missing values\n",
    "(((data.isnull().sum())/len(data))*100).sort_values(ascending = False) \n",
    "#PoolQC           99.657417\n",
    "#MiscFeature      96.402878\n",
    "#Alley            93.216855\n",
    "# Fence            80.438506"
   ]
  },
  {
   "cell_type": "code",
   "execution_count": 8,
   "metadata": {},
   "outputs": [
    {
     "data": {
      "text/plain": [
       "Index(['1stFlrSF', '2ndFlrSF', '3SsnPorch', 'BedroomAbvGr', 'BldgType',\n",
       "       'BsmtCond', 'BsmtExposure', 'BsmtFinSF1', 'BsmtFinSF2', 'BsmtFinType1',\n",
       "       'BsmtFinType2', 'BsmtFullBath', 'BsmtHalfBath', 'BsmtQual', 'BsmtUnfSF',\n",
       "       'CentralAir', 'Condition1', 'Condition2', 'Electrical', 'EnclosedPorch',\n",
       "       'ExterCond', 'ExterQual', 'Exterior1st', 'Exterior2nd', 'FireplaceQu',\n",
       "       'Fireplaces', 'Foundation', 'FullBath', 'Functional', 'GarageArea',\n",
       "       'GarageCars', 'GarageCond', 'GarageFinish', 'GarageQual', 'GarageType',\n",
       "       'GarageYrBlt', 'GrLivArea', 'HalfBath', 'Heating', 'HeatingQC',\n",
       "       'HouseStyle', 'KitchenAbvGr', 'KitchenQual', 'LandContour', 'LandSlope',\n",
       "       'LotArea', 'LotConfig', 'LotFrontage', 'LotShape', 'LowQualFinSF',\n",
       "       'MSSubClass', 'MSZoning', 'MasVnrArea', 'MasVnrType', 'MiscVal',\n",
       "       'MoSold', 'Neighborhood', 'OpenPorchSF', 'OverallCond', 'OverallQual',\n",
       "       'PavedDrive', 'PoolArea', 'RoofMatl', 'RoofStyle', 'SaleCondition',\n",
       "       'SalePrice', 'SaleType', 'ScreenPorch', 'Street', 'TotRmsAbvGrd',\n",
       "       'TotalBsmtSF', 'Utilities', 'WoodDeckSF', 'YearBuilt', 'YearRemodAdd',\n",
       "       'YrSold'],\n",
       "      dtype='object')"
      ]
     },
     "metadata": {},
     "output_type": "display_data"
    }
   ],
   "source": [
    "# columns having more than 70% null values are being removed since they do not have enough information \n",
    "data1 = data.drop([\"PoolQC\",\"MiscFeature\",\"Alley\",\"Fence\"], axis = 1)\n",
    "display(data1.columns)"
   ]
  },
  {
   "cell_type": "code",
   "execution_count": 9,
   "metadata": {},
   "outputs": [
    {
     "data": {
      "text/plain": [
       "0"
      ]
     },
     "execution_count": 9,
     "metadata": {},
     "output_type": "execute_result"
    }
   ],
   "source": [
    "# treating the numerical rows having missing values\n",
    "# LotFrontage \n",
    "#data1[\"LotFrontage\"] = data.LotFrontage.fillna(data[\"LotFrontage\"].mean())\n",
    "#data1.loc[pd.isnull(data1['LotFrontage']),['LotFrontage']]=data1[\"LotFrontage\"].interpolate()\n",
    "data1[\"LotFrontage\"] = data.LotFrontage.fillna(data[\"LotFrontage\"].interpolate())\n",
    "data1.LotFrontage.isnull().sum()"
   ]
  },
  {
   "cell_type": "code",
   "execution_count": 10,
   "metadata": {},
   "outputs": [
    {
     "data": {
      "text/plain": [
       "(2919, 76)"
      ]
     },
     "execution_count": 10,
     "metadata": {},
     "output_type": "execute_result"
    }
   ],
   "source": [
    "data1.shape"
   ]
  },
  {
   "cell_type": "code",
   "execution_count": 11,
   "metadata": {},
   "outputs": [
    {
     "ename": "NameError",
     "evalue": "name 'plt' is not defined",
     "output_type": "error",
     "traceback": [
      "\u001b[1;31m---------------------------------------------------------------------------\u001b[0m",
      "\u001b[1;31mNameError\u001b[0m                                 Traceback (most recent call last)",
      "\u001b[1;32m<ipython-input-11-d2909dbe7f6d>\u001b[0m in \u001b[0;36m<module>\u001b[1;34m\u001b[0m\n\u001b[0;32m      1\u001b[0m \u001b[1;31m#univariate analyses\u001b[0m\u001b[1;33m\u001b[0m\u001b[1;33m\u001b[0m\u001b[1;33m\u001b[0m\u001b[0m\n\u001b[1;32m----> 2\u001b[1;33m \u001b[0mplt\u001b[0m\u001b[1;33m.\u001b[0m\u001b[0mfigure\u001b[0m\u001b[1;33m(\u001b[0m\u001b[0mfigsize\u001b[0m\u001b[1;33m=\u001b[0m\u001b[1;33m(\u001b[0m\u001b[1;36m20\u001b[0m\u001b[1;33m,\u001b[0m\u001b[1;36m10\u001b[0m\u001b[1;33m)\u001b[0m\u001b[1;33m)\u001b[0m\u001b[1;33m\u001b[0m\u001b[1;33m\u001b[0m\u001b[0m\n\u001b[0m\u001b[0;32m      3\u001b[0m \u001b[0mplt\u001b[0m\u001b[1;33m.\u001b[0m\u001b[0msubplots_adjust\u001b[0m\u001b[1;33m(\u001b[0m\u001b[0mhspace\u001b[0m \u001b[1;33m=\u001b[0m \u001b[1;36m1\u001b[0m\u001b[1;33m)\u001b[0m\u001b[1;33m\u001b[0m\u001b[1;33m\u001b[0m\u001b[0m\n\u001b[0;32m      4\u001b[0m \u001b[0mplt\u001b[0m\u001b[1;33m.\u001b[0m\u001b[0msubplot\u001b[0m\u001b[1;33m(\u001b[0m\u001b[1;36m221\u001b[0m\u001b[1;33m)\u001b[0m\u001b[1;33m\u001b[0m\u001b[1;33m\u001b[0m\u001b[0m\n\u001b[0;32m      5\u001b[0m \u001b[0mdata1\u001b[0m\u001b[1;33m[\u001b[0m\u001b[1;34m\"MSSubClass\"\u001b[0m\u001b[1;33m]\u001b[0m\u001b[1;33m.\u001b[0m\u001b[0mvalue_counts\u001b[0m\u001b[1;33m(\u001b[0m\u001b[1;33m)\u001b[0m\u001b[1;33m.\u001b[0m\u001b[0mplot\u001b[0m\u001b[1;33m(\u001b[0m\u001b[0mkind\u001b[0m\u001b[1;33m=\u001b[0m\u001b[1;34m\"bar\"\u001b[0m\u001b[1;33m)\u001b[0m\u001b[1;33m\u001b[0m\u001b[1;33m\u001b[0m\u001b[0m\n",
      "\u001b[1;31mNameError\u001b[0m: name 'plt' is not defined"
     ]
    }
   ],
   "source": [
    "#univariate analyses\n",
    "plt.figure(figsize=(20,10))\n",
    "plt.subplots_adjust(hspace = 1)\n",
    "plt.subplot(221)\n",
    "data1[\"MSSubClass\"].value_counts().plot(kind=\"bar\")\n",
    "plt.xlabel(\"MSSubClass\")\n",
    "\n",
    "plt.subplot(222)\n",
    "data1[\"MSZoning\"].value_counts().plot(kind=\"bar\")\n",
    "plt.xlabel(\"MSZoning\")\n",
    "\n",
    "plt.subplot(223)\n",
    "data1[\"Street\"].value_counts().plot(kind=\"bar\")\n",
    "plt.xlabel(\"Street\")\n",
    "\n",
    "plt.subplot(224)\n",
    "data1[\"LotShape\"].value_counts().plot(kind=\"bar\")\n",
    "plt.xlabel(\"LotShape\")"
   ]
  },
  {
   "cell_type": "code",
   "execution_count": 12,
   "metadata": {},
   "outputs": [
    {
     "ename": "NameError",
     "evalue": "name 'plt' is not defined",
     "output_type": "error",
     "traceback": [
      "\u001b[1;31m---------------------------------------------------------------------------\u001b[0m",
      "\u001b[1;31mNameError\u001b[0m                                 Traceback (most recent call last)",
      "\u001b[1;32m<ipython-input-12-cd8a5b9a8d7a>\u001b[0m in \u001b[0;36m<module>\u001b[1;34m\u001b[0m\n\u001b[1;32m----> 1\u001b[1;33m \u001b[0mplt\u001b[0m\u001b[1;33m.\u001b[0m\u001b[0mfigure\u001b[0m\u001b[1;33m(\u001b[0m\u001b[0mfigsize\u001b[0m\u001b[1;33m=\u001b[0m\u001b[1;33m(\u001b[0m\u001b[1;36m10\u001b[0m\u001b[1;33m,\u001b[0m\u001b[1;36m5\u001b[0m\u001b[1;33m)\u001b[0m\u001b[1;33m)\u001b[0m\u001b[1;33m\u001b[0m\u001b[1;33m\u001b[0m\u001b[0m\n\u001b[0m\u001b[0;32m      2\u001b[0m \u001b[0mplt\u001b[0m\u001b[1;33m.\u001b[0m\u001b[0msubplots_adjust\u001b[0m\u001b[1;33m(\u001b[0m\u001b[0mhspace\u001b[0m \u001b[1;33m=\u001b[0m \u001b[1;36m1\u001b[0m\u001b[1;33m)\u001b[0m\u001b[1;33m\u001b[0m\u001b[1;33m\u001b[0m\u001b[0m\n\u001b[0;32m      3\u001b[0m \u001b[0mplt\u001b[0m\u001b[1;33m.\u001b[0m\u001b[0msubplot\u001b[0m\u001b[1;33m(\u001b[0m\u001b[1;36m211\u001b[0m\u001b[1;33m)\u001b[0m\u001b[1;33m\u001b[0m\u001b[1;33m\u001b[0m\u001b[0m\n\u001b[0;32m      4\u001b[0m \u001b[0mdata1\u001b[0m\u001b[1;33m[\u001b[0m\u001b[1;34m\"LandContour\"\u001b[0m\u001b[1;33m]\u001b[0m\u001b[1;33m.\u001b[0m\u001b[0mvalue_counts\u001b[0m\u001b[1;33m(\u001b[0m\u001b[1;33m)\u001b[0m\u001b[1;33m.\u001b[0m\u001b[0mplot\u001b[0m\u001b[1;33m(\u001b[0m\u001b[0mkind\u001b[0m\u001b[1;33m=\u001b[0m\u001b[1;34m\"bar\"\u001b[0m\u001b[1;33m)\u001b[0m\u001b[1;33m\u001b[0m\u001b[1;33m\u001b[0m\u001b[0m\n\u001b[0;32m      5\u001b[0m \u001b[0mplt\u001b[0m\u001b[1;33m.\u001b[0m\u001b[0mxlabel\u001b[0m\u001b[1;33m(\u001b[0m\u001b[1;34m\"LandContour\"\u001b[0m\u001b[1;33m)\u001b[0m\u001b[1;33m\u001b[0m\u001b[1;33m\u001b[0m\u001b[0m\n",
      "\u001b[1;31mNameError\u001b[0m: name 'plt' is not defined"
     ]
    }
   ],
   "source": [
    "plt.figure(figsize=(10,5))\n",
    "plt.subplots_adjust(hspace = 1)\n",
    "plt.subplot(211)\n",
    "data1[\"LandContour\"].value_counts().plot(kind=\"bar\")\n",
    "plt.xlabel(\"LandContour\")\n",
    "\n",
    "plt.subplot(212)\n",
    "data1[\"Utilities\"].value_counts().plot(kind=\"bar\")\n",
    "plt.xlabel(\"Utilities\")"
   ]
  },
  {
   "cell_type": "code",
   "execution_count": 13,
   "metadata": {},
   "outputs": [
    {
     "ename": "NameError",
     "evalue": "name 'plt' is not defined",
     "output_type": "error",
     "traceback": [
      "\u001b[1;31m---------------------------------------------------------------------------\u001b[0m",
      "\u001b[1;31mNameError\u001b[0m                                 Traceback (most recent call last)",
      "\u001b[1;32m<ipython-input-13-ac478348b5dd>\u001b[0m in \u001b[0;36m<module>\u001b[1;34m\u001b[0m\n\u001b[1;32m----> 1\u001b[1;33m \u001b[0mplt\u001b[0m\u001b[1;33m.\u001b[0m\u001b[0msubplots_adjust\u001b[0m\u001b[1;33m(\u001b[0m\u001b[0mhspace\u001b[0m \u001b[1;33m=\u001b[0m \u001b[1;36m1\u001b[0m\u001b[1;33m)\u001b[0m\u001b[1;33m\u001b[0m\u001b[1;33m\u001b[0m\u001b[0m\n\u001b[0m\u001b[0;32m      2\u001b[0m \u001b[1;33m\u001b[0m\u001b[0m\n\u001b[0;32m      3\u001b[0m \u001b[0mplt\u001b[0m\u001b[1;33m.\u001b[0m\u001b[0msubplot\u001b[0m\u001b[1;33m(\u001b[0m\u001b[1;36m221\u001b[0m\u001b[1;33m)\u001b[0m\u001b[1;33m\u001b[0m\u001b[1;33m\u001b[0m\u001b[0m\n\u001b[0;32m      4\u001b[0m \u001b[0mdata1\u001b[0m\u001b[1;33m[\u001b[0m\u001b[1;34m\"LotConfig\"\u001b[0m\u001b[1;33m]\u001b[0m\u001b[1;33m.\u001b[0m\u001b[0mvalue_counts\u001b[0m\u001b[1;33m(\u001b[0m\u001b[1;33m)\u001b[0m\u001b[1;33m.\u001b[0m\u001b[0mplot\u001b[0m\u001b[1;33m(\u001b[0m\u001b[0mkind\u001b[0m\u001b[1;33m=\u001b[0m\u001b[1;34m\"bar\"\u001b[0m\u001b[1;33m)\u001b[0m\u001b[1;33m\u001b[0m\u001b[1;33m\u001b[0m\u001b[0m\n\u001b[0;32m      5\u001b[0m \u001b[0mplt\u001b[0m\u001b[1;33m.\u001b[0m\u001b[0mxlabel\u001b[0m\u001b[1;33m(\u001b[0m\u001b[1;34m\"LotConfig\"\u001b[0m\u001b[1;33m)\u001b[0m\u001b[1;33m\u001b[0m\u001b[1;33m\u001b[0m\u001b[0m\n",
      "\u001b[1;31mNameError\u001b[0m: name 'plt' is not defined"
     ]
    }
   ],
   "source": [
    "plt.subplots_adjust(hspace = 1)\n",
    "\n",
    "plt.subplot(221)\n",
    "data1[\"LotConfig\"].value_counts().plot(kind=\"bar\")\n",
    "plt.xlabel(\"LotConfig\")\n",
    "\n",
    "plt.subplot(222)\n",
    "data1[\"LandSlope\"].value_counts().plot(kind=\"bar\")\n",
    "plt.xlabel(\"LandSlope\")\n",
    "\n",
    "plt.subplot(223)\n",
    "data1[\"Neighborhood\"].value_counts().plot(kind=\"bar\")\n",
    "plt.xlabel(\"Neighborhood\")\n",
    "\n",
    "plt.subplot(224)\n",
    "data1[\"Condition1\"].value_counts().plot(kind=\"bar\")\n",
    "plt.xlabel(\"Condition1\")"
   ]
  },
  {
   "cell_type": "code",
   "execution_count": null,
   "metadata": {},
   "outputs": [],
   "source": [
    "plt.figure(figsize=(10,5))\n",
    "plt.subplots_adjust(hspace = 1)\n",
    "\n",
    "plt.subplot(211)\n",
    "data1[\"Condition2\"].value_counts().plot(kind=\"bar\")\n",
    "plt.xlabel(\"Condition2\")\n",
    "\n",
    "plt.subplot(212)\n",
    "data1[\"BldgType\"].value_counts().plot(kind=\"bar\")\n",
    "plt.xlabel(\"BldgType\")\n"
   ]
  },
  {
   "cell_type": "code",
   "execution_count": 14,
   "metadata": {},
   "outputs": [
    {
     "ename": "NameError",
     "evalue": "name 'plt' is not defined",
     "output_type": "error",
     "traceback": [
      "\u001b[1;31m---------------------------------------------------------------------------\u001b[0m",
      "\u001b[1;31mNameError\u001b[0m                                 Traceback (most recent call last)",
      "\u001b[1;32m<ipython-input-14-12fa6170b9ed>\u001b[0m in \u001b[0;36m<module>\u001b[1;34m\u001b[0m\n\u001b[1;32m----> 1\u001b[1;33m \u001b[0mplt\u001b[0m\u001b[1;33m.\u001b[0m\u001b[0mfigure\u001b[0m\u001b[1;33m(\u001b[0m\u001b[0mfigsize\u001b[0m\u001b[1;33m=\u001b[0m\u001b[1;33m(\u001b[0m\u001b[1;36m20\u001b[0m\u001b[1;33m,\u001b[0m\u001b[1;36m10\u001b[0m\u001b[1;33m)\u001b[0m\u001b[1;33m)\u001b[0m\u001b[1;33m\u001b[0m\u001b[1;33m\u001b[0m\u001b[0m\n\u001b[0m\u001b[0;32m      2\u001b[0m \u001b[0mplt\u001b[0m\u001b[1;33m.\u001b[0m\u001b[0msubplots_adjust\u001b[0m\u001b[1;33m(\u001b[0m\u001b[0mhspace\u001b[0m \u001b[1;33m=\u001b[0m \u001b[1;36m1\u001b[0m\u001b[1;33m)\u001b[0m\u001b[1;33m\u001b[0m\u001b[1;33m\u001b[0m\u001b[0m\n\u001b[0;32m      3\u001b[0m \u001b[1;33m\u001b[0m\u001b[0m\n\u001b[0;32m      4\u001b[0m \u001b[0mplt\u001b[0m\u001b[1;33m.\u001b[0m\u001b[0msubplot\u001b[0m\u001b[1;33m(\u001b[0m\u001b[1;36m221\u001b[0m\u001b[1;33m)\u001b[0m\u001b[1;33m\u001b[0m\u001b[1;33m\u001b[0m\u001b[0m\n\u001b[0;32m      5\u001b[0m \u001b[0mdata1\u001b[0m\u001b[1;33m[\u001b[0m\u001b[1;34m\"OverallQual\"\u001b[0m\u001b[1;33m]\u001b[0m\u001b[1;33m.\u001b[0m\u001b[0mvalue_counts\u001b[0m\u001b[1;33m(\u001b[0m\u001b[1;33m)\u001b[0m\u001b[1;33m.\u001b[0m\u001b[0mplot\u001b[0m\u001b[1;33m(\u001b[0m\u001b[0mkind\u001b[0m\u001b[1;33m=\u001b[0m\u001b[1;34m\"bar\"\u001b[0m\u001b[1;33m)\u001b[0m\u001b[1;33m\u001b[0m\u001b[1;33m\u001b[0m\u001b[0m\n",
      "\u001b[1;31mNameError\u001b[0m: name 'plt' is not defined"
     ]
    }
   ],
   "source": [
    "plt.figure(figsize=(20,10))\n",
    "plt.subplots_adjust(hspace = 1)\n",
    "\n",
    "plt.subplot(221)\n",
    "data1[\"OverallQual\"].value_counts().plot(kind=\"bar\")\n",
    "plt.xlabel(\"OverallQual\")\n",
    "\n",
    "plt.subplot(222)\n",
    "data1[\"OverallCond\"].value_counts().plot(kind=\"bar\")\n",
    "plt.xlabel(\"OverallCond\")\n",
    "\n",
    "plt.subplot(223)\n",
    "data1[\"RoofStyle\"].value_counts().plot(kind=\"bar\")\n",
    "plt.xlabel(\"RoofStyle\")\n",
    "\n",
    "plt.subplot(224)\n",
    "data1[\"RoofMatl\"].value_counts().plot(kind=\"bar\")\n",
    "plt.xlabel(\"RoofMatl\")"
   ]
  },
  {
   "cell_type": "code",
   "execution_count": 15,
   "metadata": {},
   "outputs": [
    {
     "ename": "NameError",
     "evalue": "name 'plt' is not defined",
     "output_type": "error",
     "traceback": [
      "\u001b[1;31m---------------------------------------------------------------------------\u001b[0m",
      "\u001b[1;31mNameError\u001b[0m                                 Traceback (most recent call last)",
      "\u001b[1;32m<ipython-input-15-18986dbc96aa>\u001b[0m in \u001b[0;36m<module>\u001b[1;34m\u001b[0m\n\u001b[1;32m----> 1\u001b[1;33m \u001b[0mplt\u001b[0m\u001b[1;33m.\u001b[0m\u001b[0mfigure\u001b[0m\u001b[1;33m(\u001b[0m\u001b[0mfigsize\u001b[0m\u001b[1;33m=\u001b[0m\u001b[1;33m(\u001b[0m\u001b[1;36m20\u001b[0m\u001b[1;33m,\u001b[0m\u001b[1;36m10\u001b[0m\u001b[1;33m)\u001b[0m\u001b[1;33m)\u001b[0m\u001b[1;33m\u001b[0m\u001b[1;33m\u001b[0m\u001b[0m\n\u001b[0m\u001b[0;32m      2\u001b[0m \u001b[0mplt\u001b[0m\u001b[1;33m.\u001b[0m\u001b[0msubplots_adjust\u001b[0m\u001b[1;33m(\u001b[0m\u001b[0mhspace\u001b[0m \u001b[1;33m=\u001b[0m \u001b[1;36m1\u001b[0m\u001b[1;33m)\u001b[0m\u001b[1;33m\u001b[0m\u001b[1;33m\u001b[0m\u001b[0m\n\u001b[0;32m      3\u001b[0m \u001b[1;33m\u001b[0m\u001b[0m\n\u001b[0;32m      4\u001b[0m \u001b[0mplt\u001b[0m\u001b[1;33m.\u001b[0m\u001b[0msubplot\u001b[0m\u001b[1;33m(\u001b[0m\u001b[1;36m221\u001b[0m\u001b[1;33m)\u001b[0m\u001b[1;33m\u001b[0m\u001b[1;33m\u001b[0m\u001b[0m\n\u001b[0;32m      5\u001b[0m \u001b[0mdata1\u001b[0m\u001b[1;33m[\u001b[0m\u001b[1;34m\"Exterior1st\"\u001b[0m\u001b[1;33m]\u001b[0m\u001b[1;33m.\u001b[0m\u001b[0mvalue_counts\u001b[0m\u001b[1;33m(\u001b[0m\u001b[1;33m)\u001b[0m\u001b[1;33m.\u001b[0m\u001b[0mplot\u001b[0m\u001b[1;33m(\u001b[0m\u001b[0mkind\u001b[0m\u001b[1;33m=\u001b[0m\u001b[1;34m\"bar\"\u001b[0m\u001b[1;33m)\u001b[0m\u001b[1;33m\u001b[0m\u001b[1;33m\u001b[0m\u001b[0m\n",
      "\u001b[1;31mNameError\u001b[0m: name 'plt' is not defined"
     ]
    }
   ],
   "source": [
    "plt.figure(figsize=(20,10))\n",
    "plt.subplots_adjust(hspace = 1)\n",
    "\n",
    "plt.subplot(221)\n",
    "data1[\"Exterior1st\"].value_counts().plot(kind=\"bar\")\n",
    "plt.xlabel(\"Exterior1st\")\n",
    "\n",
    "plt.subplot(222)\n",
    "data1[\"Exterior2nd\"].value_counts().plot(kind=\"bar\")\n",
    "plt.xlabel(\"Exterior2nd\")\n",
    "\n",
    "plt.subplot(223)\n",
    "data1[\"MasVnrType\"].value_counts().plot(kind=\"bar\")\n",
    "plt.xlabel(\"MasVnrType\")\n",
    "\n",
    "plt.subplot(224)\n",
    "data1[\"ExterQual\"].value_counts().plot(kind=\"bar\")\n",
    "plt.xlabel(\"ExterQual\")\n"
   ]
  },
  {
   "cell_type": "code",
   "execution_count": 54,
   "metadata": {},
   "outputs": [
    {
     "data": {
      "text/plain": [
       "Text(0.5, 0, 'BsmtCond')"
      ]
     },
     "execution_count": 54,
     "metadata": {},
     "output_type": "execute_result"
    },
    {
     "data": {
      "image/png": "[encoded data removed]",
      "text/plain": [
       "<Figure size 1440x720 with 4 Axes>"
      ]
     },
     "metadata": {
      "needs_background": "light"
     },
     "output_type": "display_data"
    }
   ],
   "source": [
    "plt.figure(figsize=(20,10))\n",
    "plt.subplots_adjust(hspace = 1)\n",
    "\n",
    "plt.subplot(221)\n",
    "data1[\"ExterCond\"].value_counts().plot(kind=\"bar\")\n",
    "plt.xlabel(\"ExterCond\")\n",
    "\n",
    "plt.subplot(222)\n",
    "data1[\"Foundation\"].value_counts().plot(kind=\"bar\")\n",
    "plt.xlabel(\"Foundation\")\n",
    "\n",
    "plt.subplot(223)\n",
    "data1[\"BsmtQual\"].value_counts().plot(kind=\"bar\")\n",
    "plt.xlabel(\"BsmtQual\")\n",
    "\n",
    "plt.subplot(224)\n",
    "data1[\"BsmtCond\"].value_counts().plot(kind=\"bar\")\n",
    "plt.xlabel(\"BsmtCond\")"
   ]
  },
  {
   "cell_type": "code",
   "execution_count": 55,
   "metadata": {},
   "outputs": [
    {
     "data": {
      "text/plain": [
       "Text(0.5, 0, 'Heating')"
      ]
     },
     "execution_count": 55,
     "metadata": {},
     "output_type": "execute_result"
    },
    {
     "data": {
      "image/png": "[encoded data removed]",
      "text/plain": [
       "<Figure size 1440x720 with 4 Axes>"
      ]
     },
     "metadata": {
      "needs_background": "light"
     },
     "output_type": "display_data"
    }
   ],
   "source": [
    "plt.figure(figsize=(20,10))\n",
    "plt.subplots_adjust(hspace = 1)\n",
    "\n",
    "plt.subplot(221)\n",
    "data1[\"BsmtExposure\"].value_counts().plot(kind=\"bar\")\n",
    "plt.xlabel(\"BsmtExposure\")\n",
    "#rename NO and No\n",
    "\n",
    "plt.subplot(222)\n",
    "data1[\"BsmtFinType1\"].value_counts().plot(kind=\"bar\")\n",
    "plt.xlabel(\"BsmtFinType1\")\n",
    "#rename NO\n",
    "\n",
    "plt.subplot(223)\n",
    "data1[\"BsmtFinType2\"].value_counts().plot(kind=\"bar\")\n",
    "plt.xlabel(\"BsmtFinType2\")\n",
    "#rename NO\n",
    "\n",
    "plt.subplot(224)\n",
    "data1[\"Heating\"].value_counts().plot(kind=\"bar\")\n",
    "plt.xlabel(\"Heating\")\n"
   ]
  },
  {
   "cell_type": "code",
   "execution_count": 56,
   "metadata": {},
   "outputs": [
    {
     "data": {
      "text/plain": [
       "Text(0.5, 0, 'HeatingQC')"
      ]
     },
     "execution_count": 56,
     "metadata": {},
     "output_type": "execute_result"
    },
    {
     "data": {
      "image/png": "[encoded data removed]",
      "text/plain": [
       "<Figure size 432x288 with 1 Axes>"
      ]
     },
     "metadata": {
      "needs_background": "light"
     },
     "output_type": "display_data"
    }
   ],
   "source": [
    "data1[\"HeatingQC\"].value_counts().plot(kind=\"bar\")\n",
    "plt.xlabel(\"HeatingQC\")\n"
   ]
  },
  {
   "cell_type": "code",
   "execution_count": 57,
   "metadata": {},
   "outputs": [
    {
     "data": {
      "text/plain": [
       "Text(0.5, 0, 'BsmtHalfBath')"
      ]
     },
     "execution_count": 57,
     "metadata": {},
     "output_type": "execute_result"
    },
    {
     "data": {
      "image/png": "[encoded data removed]",
      "text/plain": [
       "<Figure size 1440x720 with 4 Axes>"
      ]
     },
     "metadata": {
      "needs_background": "light"
     },
     "output_type": "display_data"
    }
   ],
   "source": [
    "plt.figure(figsize=(20,10))\n",
    "plt.subplots_adjust(hspace = 1)\n",
    "\n",
    "plt.subplot(221)\n",
    "data1[\"CentralAir\"].value_counts().plot(kind=\"bar\")\n",
    "plt.xlabel(\"CentralAir\")\n",
    "\n",
    "plt.subplot(222)\n",
    "data1[\"Electrical\"].value_counts().plot(kind=\"bar\")\n",
    "plt.xlabel(\"Electrical\")\n",
    "\n",
    "plt.subplot(223)\n",
    "data1[\"BsmtFullBath\"].value_counts().plot(kind=\"bar\")\n",
    "plt.xlabel(\"BsmtFullBath\")\n",
    "\n",
    "plt.subplot(224)\n",
    "data1[\"BsmtHalfBath\"].value_counts().plot(kind=\"bar\")\n",
    "plt.xlabel(\"BsmtHalfBath\")"
   ]
  },
  {
   "cell_type": "code",
   "execution_count": 58,
   "metadata": {},
   "outputs": [
    {
     "data": {
      "text/plain": [
       "Text(0.5, 0, 'KitchenAbvGr')"
      ]
     },
     "execution_count": 58,
     "metadata": {},
     "output_type": "execute_result"
    },
    {
     "data": {
      "image/png": "[encoded data removed]",
      "text/plain": [
       "<Figure size 1440x720 with 4 Axes>"
      ]
     },
     "metadata": {
      "needs_background": "light"
     },
     "output_type": "display_data"
    }
   ],
   "source": [
    "plt.figure(figsize=(20,10))\n",
    "plt.subplots_adjust(hspace = 1)\n",
    "\n",
    "plt.subplot(221)\n",
    "data1[\"FullBath\"].value_counts().plot(kind=\"bar\")\n",
    "plt.xlabel(\"FullBath\")\n",
    "\n",
    "plt.subplot(222)\n",
    "data1[\"HalfBath\"].value_counts().plot(kind=\"bar\")\n",
    "plt.xlabel(\"HalfBath\")\n",
    "\n",
    "plt.subplot(223)\n",
    "data1[\"BedroomAbvGr\"].value_counts().plot(kind=\"bar\")\n",
    "plt.xlabel(\"BedroomAbvGr\")\n",
    "\n",
    "plt.subplot(224)\n",
    "data1[\"KitchenAbvGr\"].value_counts().plot(kind=\"bar\")\n",
    "plt.xlabel(\"KitchenAbvGr\")"
   ]
  },
  {
   "cell_type": "code",
   "execution_count": 59,
   "metadata": {},
   "outputs": [
    {
     "data": {
      "text/plain": [
       "Text(0.5, 0, 'Fireplaces')"
      ]
     },
     "execution_count": 59,
     "metadata": {},
     "output_type": "execute_result"
    },
    {
     "data": {
      "image/png": "[encoded data removed]",
      "text/plain": [
       "<Figure size 1440x720 with 4 Axes>"
      ]
     },
     "metadata": {
      "needs_background": "light"
     },
     "output_type": "display_data"
    }
   ],
   "source": [
    "plt.figure(figsize=(20,10))\n",
    "plt.subplots_adjust(hspace = 1)\n",
    "\n",
    "plt.subplot(221)\n",
    "data1[\"KitchenQual\"].value_counts().plot(kind=\"bar\")\n",
    "plt.xlabel(\"KitchenQual\")\n",
    "\n",
    "plt.subplot(222)\n",
    "data1[\"TotRmsAbvGrd\"].value_counts().plot(kind=\"bar\")\n",
    "plt.xlabel(\"TotRmsAbvGrd\")\n",
    "\n",
    "plt.subplot(223)\n",
    "data1[\"Functional\"].value_counts().plot(kind=\"bar\")\n",
    "plt.xlabel(\"Functional\")\n",
    "\n",
    "plt.subplot(224)\n",
    "data1[\"Fireplaces\"].value_counts().plot(kind=\"bar\")\n",
    "plt.xlabel(\"Fireplaces\")"
   ]
  },
  {
   "cell_type": "code",
   "execution_count": 60,
   "metadata": {},
   "outputs": [
    {
     "data": {
      "text/plain": [
       "Text(0.5, 0, 'GarageFinish')"
      ]
     },
     "execution_count": 60,
     "metadata": {},
     "output_type": "execute_result"
    },
    {
     "data": {
      "image/png": "[encoded data removed]",
      "text/plain": [
       "<Figure size 1440x720 with 3 Axes>"
      ]
     },
     "metadata": {
      "needs_background": "light"
     },
     "output_type": "display_data"
    }
   ],
   "source": [
    "plt.figure(figsize=(20,10))\n",
    "plt.subplots_adjust(hspace = 1)\n",
    "\n",
    "plt.subplot(311)\n",
    "data1[\"FireplaceQu\"].value_counts().plot(kind=\"bar\")\n",
    "plt.xlabel(\"FireplaceQu\")\n",
    "#rename NO\n",
    "\n",
    "plt.subplot(312)\n",
    "data1[\"GarageType\"].value_counts().plot(kind=\"bar\")\n",
    "plt.xlabel(\"GarageType\")\n",
    "#rename NO\n",
    "\n",
    "plt.subplot(313)\n",
    "data1[\"GarageFinish\"].value_counts().plot(kind=\"bar\")\n",
    "plt.xlabel(\"GarageFinish\")\n",
    "#rename NO"
   ]
  },
  {
   "cell_type": "code",
   "execution_count": 61,
   "metadata": {},
   "outputs": [
    {
     "data": {
      "text/plain": [
       "Text(0.5, 0, 'GarageYrBlt (from 1900s)')"
      ]
     },
     "execution_count": 61,
     "metadata": {},
     "output_type": "execute_result"
    },
    {
     "data": {
      "image/png": "[encoded data removed]",
      "text/plain": [
       "<Figure size 4320x2880 with 1 Axes>"
      ]
     },
     "metadata": {
      "needs_background": "light"
     },
     "output_type": "display_data"
    }
   ],
   "source": [
    "plt.figure(figsize=(60,40))\n",
    "\n",
    "plt.subplot(224)\n",
    "data1[\"GarageYrBlt\"].value_counts().plot(kind=\"bar\")\n",
    "plt.xlabel(\"GarageYrBlt (from 1900s)\")"
   ]
  },
  {
   "cell_type": "code",
   "execution_count": 62,
   "metadata": {},
   "outputs": [
    {
     "data": {
      "text/plain": [
       "Text(0.5, 0, 'PavedDrive')"
      ]
     },
     "execution_count": 62,
     "metadata": {},
     "output_type": "execute_result"
    },
    {
     "data": {
      "image/png": "[encoded data removed]",
      "text/plain": [
       "<Figure size 1440x720 with 4 Axes>"
      ]
     },
     "metadata": {
      "needs_background": "light"
     },
     "output_type": "display_data"
    }
   ],
   "source": [
    "plt.figure(figsize=(20,10))\n",
    "plt.subplots_adjust(hspace = 1)\n",
    "plt.subplot(221)\n",
    "data1[\"GarageCars\"].value_counts().plot(kind=\"bar\")\n",
    "plt.xlabel(\"GarageCars\")\n",
    "#rename 0\n",
    "\n",
    "plt.subplot(222)\n",
    "data1[\"GarageQual\"].value_counts().plot(kind=\"bar\")\n",
    "plt.xlabel(\"GarageQual\")\n",
    "#rename NO\n",
    "\n",
    "plt.subplot(223)\n",
    "data1[\"GarageCond\"].value_counts().plot(kind=\"bar\")\n",
    "plt.xlabel(\"GarageCond\")\n",
    "#rename NO\n",
    "\n",
    "plt.subplot(224)\n",
    "data1[\"PavedDrive\"].value_counts().plot(kind=\"bar\")\n",
    "plt.xlabel(\"PavedDrive\")\n"
   ]
  },
  {
   "cell_type": "code",
   "execution_count": 63,
   "metadata": {},
   "outputs": [
    {
     "data": {
      "text/plain": [
       "Text(0.5, 0, 'SaleCondition')"
      ]
     },
     "execution_count": 63,
     "metadata": {},
     "output_type": "execute_result"
    },
    {
     "data": {
      "image/png": "[encoded data removed]",
      "text/plain": [
       "<Figure size 1440x720 with 3 Axes>"
      ]
     },
     "metadata": {
      "needs_background": "light"
     },
     "output_type": "display_data"
    }
   ],
   "source": [
    "plt.figure(figsize=(20,10))\n",
    "plt.subplots_adjust(hspace = 1)\n",
    "\n",
    "plt.subplot(311)\n",
    "data1[\"YrSold\"].value_counts().plot(kind=\"bar\")\n",
    "plt.xlabel(\"YrSold\")\n",
    "\n",
    "plt.subplot(312)\n",
    "data1[\"SaleType\"].value_counts().plot(kind=\"bar\")\n",
    "plt.xlabel(\"SaleType\")\n",
    "#rename othr\n",
    "\n",
    "plt.subplot(313)\n",
    "data1[\"SaleCondition\"].value_counts().plot(kind=\"bar\")\n",
    "plt.xlabel(\"SaleCondition\")\n"
   ]
  },
  {
   "cell_type": "code",
   "execution_count": 64,
   "metadata": {},
   "outputs": [
    {
     "data": {
      "text/plain": [
       "Text(0.5, 0, 'BsmtFinSF2')"
      ]
     },
     "execution_count": 64,
     "metadata": {},
     "output_type": "execute_result"
    },
    {
     "data": {
      "image/png": "[encoded data removed]",
      "text/plain": [
       "<Figure size 1440x1440 with 4 Axes>"
      ]
     },
     "metadata": {
      "needs_background": "light"
     },
     "output_type": "display_data"
    }
   ],
   "source": [
    "plt.figure(figsize = (20,20))\n",
    "plt.subplots_adjust(hspace =1)\n",
    "\n",
    "plt.subplot(221)\n",
    "data1[\"1stFlrSF\"].value_counts().plot(kind = \"box\")\n",
    "plt.xlabel(\"1stFlrSF\")\n",
    "\n",
    "plt.subplot(222)\n",
    "data1[\"2ndFlrSF\"].value_counts().plot(kind = \"box\")\n",
    "plt.xlabel(\"2ndFlrSF\")\n",
    "\n",
    "plt.subplot(223)\n",
    "data1[\"BsmtFinSF1\"].value_counts().plot(kind = \"box\")\n",
    "plt.xlabel(\"BsmtFinSF1\")\n",
    "\n",
    "plt.subplot(224)\n",
    "data1[\"BsmtFinSF2\"].value_counts().plot(kind = \"box\")\n",
    "plt.xlabel(\"BsmtFinSF2\")\n"
   ]
  },
  {
   "cell_type": "code",
   "execution_count": 65,
   "metadata": {},
   "outputs": [
    {
     "data": {
      "text/plain": [
       "Text(0.5, 0, 'Fireplaces')"
      ]
     },
     "execution_count": 65,
     "metadata": {},
     "output_type": "execute_result"
    },
    {
     "data": {
      "image/png": "[encoded data removed]",
      "text/plain": [
       "<Figure size 1440x720 with 3 Axes>"
      ]
     },
     "metadata": {
      "needs_background": "light"
     },
     "output_type": "display_data"
    }
   ],
   "source": [
    "plt.figure(figsize =(20,10))\n",
    "plt.subplots_adjust(hspace = 1)\n",
    "\n",
    "plt.subplot(221)\n",
    "data1[\"BsmtUnfSF\"].value_counts().plot(kind = \"hist\")\n",
    "plt.xlabel(\"BsmtUnfSF\")\n",
    "\n",
    "plt.subplot(222)\n",
    "data1[\"EnclosedPorch\"].value_counts().plot(kind = \"hist\")\n",
    "plt.xlabel(\"EnclosedPorch\")\n",
    "\n",
    "plt.subplot(223)\n",
    "data1[\"Fireplaces\"].value_counts().plot(kind = \"bar\")\n",
    "plt.xlabel(\"Fireplaces\")"
   ]
  },
  {
   "cell_type": "code",
   "execution_count": 66,
   "metadata": {},
   "outputs": [
    {
     "data": {
      "text/plain": [
       "<matplotlib.axes._subplots.AxesSubplot at 0x111aa1b0548>"
      ]
     },
     "execution_count": 66,
     "metadata": {},
     "output_type": "execute_result"
    },
    {
     "data": {
      "image/png": "[encoded data removed]",
      "text/plain": [
       "<Figure size 1440x1440 with 2 Axes>"
      ]
     },
     "metadata": {
      "needs_background": "light"
     },
     "output_type": "display_data"
    }
   ],
   "source": [
    "plt.figure(figsize = (20,20))\n",
    "\n",
    "plt.subplot(221)\n",
    "data1[\"GarageArea\"].value_counts().plot(kind = \"box\") #outliers\n",
    "\n",
    "plt.subplot(222)\n",
    "data1[\"GrLivArea\"].value_counts().plot(kind = \"box\")#outliers"
   ]
  },
  {
   "cell_type": "code",
   "execution_count": 67,
   "metadata": {},
   "outputs": [
    {
     "data": {
      "text/plain": [
       "<matplotlib.axes._subplots.AxesSubplot at 0x111aab1f248>"
      ]
     },
     "execution_count": 67,
     "metadata": {},
     "output_type": "execute_result"
    },
    {
     "data": {
      "image/png": "[encoded data removed]",
      "text/plain": [
       "<Figure size 1440x720 with 4 Axes>"
      ]
     },
     "metadata": {
      "needs_background": "light"
     },
     "output_type": "display_data"
    }
   ],
   "source": [
    "plt.figure(figsize = (20,10))\n",
    "plt.subplots_adjust(hspace = 1)\n",
    "\n",
    "plt.subplot(221)\n",
    "data1[\"LotArea\"].value_counts().plot(kind = \"box\")\n",
    "\n",
    "plt.subplot(222)\n",
    "data1[\"LotFrontage\"].value_counts().plot(kind = \"box\")\n",
    "plt.xlabel(\"LotFrontage\")\n",
    "\n",
    "plt.subplot(223)\n",
    "data1[\"LowQualFinSF\"].value_counts().plot(kind = \"bar\")\n",
    "plt.xlabel(\"LowQualFinSF\")\n",
    "\n",
    "plt.subplot(224)\n",
    "data1[\"MasVnrArea\"].value_counts().plot(kind = \"box\")"
   ]
  },
  {
   "cell_type": "code",
   "execution_count": 68,
   "metadata": {},
   "outputs": [
    {
     "data": {
      "text/plain": [
       "<matplotlib.axes._subplots.AxesSubplot at 0x111aac289c8>"
      ]
     },
     "execution_count": 68,
     "metadata": {},
     "output_type": "execute_result"
    },
    {
     "data": {
      "image/png": "[encoded data removed]",
      "text/plain": [
       "<Figure size 1440x720 with 1 Axes>"
      ]
     },
     "metadata": {
      "needs_background": "light"
     },
     "output_type": "display_data"
    }
   ],
   "source": [
    "plt.figure(figsize = (20,10))\n",
    "\n",
    "data1[\"MiscVal\"].value_counts().plot(kind = \"bar\")"
   ]
  },
  {
   "cell_type": "code",
   "execution_count": 69,
   "metadata": {},
   "outputs": [
    {
     "data": {
      "text/plain": [
       "Text(0.5, 0, 'PoolArea')"
      ]
     },
     "execution_count": 69,
     "metadata": {},
     "output_type": "execute_result"
    },
    {
     "data": {
      "image/png": "[encoded data removed]",
      "text/plain": [
       "<Figure size 1440x720 with 4 Axes>"
      ]
     },
     "metadata": {
      "needs_background": "light"
     },
     "output_type": "display_data"
    }
   ],
   "source": [
    "plt.figure(figsize = (20,10))\n",
    "plt.subplots_adjust(hspace = 1)\n",
    "\n",
    "plt.subplot(321)\n",
    "data1[\"MoSold\"].value_counts().plot(kind = \"bar\")\n",
    "plt.xlabel(\"Month Sold\")\n",
    "\n",
    "plt.subplot(322)\n",
    "data1[\"OverallCond\"].value_counts().plot(kind = \"bar\")\n",
    "plt.xlabel(\"OverallCond\")\n",
    "\n",
    "plt.subplot(323)\n",
    "data1[\"OverallQual\"].value_counts().plot(kind = \"bar\")\n",
    "plt.xlabel(\"OverallQual\")\n",
    "\n",
    "plt.subplot(324)\n",
    "data1[\"PoolArea\"].value_counts().plot(kind = \"bar\")\n",
    "plt.xlabel(\"PoolArea\")\n"
   ]
  },
  {
   "cell_type": "code",
   "execution_count": 70,
   "metadata": {},
   "outputs": [
    {
     "data": {
      "text/plain": [
       "Text(0.5, 0, 'ScreenPorch')"
      ]
     },
     "execution_count": 70,
     "metadata": {},
     "output_type": "execute_result"
    },
    {
     "data": {
      "image/png": "[encoded data removed]",
      "text/plain": [
       "<Figure size 1440x720 with 2 Axes>"
      ]
     },
     "metadata": {
      "needs_background": "light"
     },
     "output_type": "display_data"
    }
   ],
   "source": [
    "plt.figure(figsize = (20,10))\n",
    "plt.subplots_adjust(hspace = 1)\n",
    "\n",
    "plt.subplot(211)\n",
    "data1[\"OpenPorchSF\"].value_counts().plot(kind = \"box\")\n",
    "plt.xlabel(\"OpenPorchSF\")\n",
    "\n",
    "plt.subplot(212)\n",
    "data1[\"ScreenPorch\"].value_counts().plot(kind = \"box\")\n",
    "plt.xlabel(\"ScreenPorch\")\n",
    "\n"
   ]
  },
  {
   "cell_type": "code",
   "execution_count": 71,
   "metadata": {},
   "outputs": [
    {
     "data": {
      "text/plain": [
       "Text(0.5, 0, 'YearRemodAdd')"
      ]
     },
     "execution_count": 71,
     "metadata": {},
     "output_type": "execute_result"
    },
    {
     "data": {
      "image/png": "[encoded data removed]",
      "text/plain": [
       "<Figure size 2160x720 with 4 Axes>"
      ]
     },
     "metadata": {
      "needs_background": "light"
     },
     "output_type": "display_data"
    }
   ],
   "source": [
    "plt.figure(figsize = (30,10))\n",
    "plt.subplots_adjust(hspace = 1)\n",
    "\n",
    "plt.subplot(221)\n",
    "data1[\"TotalBsmtSF\"].value_counts().plot(kind = \"box\")\n",
    "\n",
    "plt.subplot(222)\n",
    "data1[\"WoodDeckSF\"].value_counts().plot(kind = \"box\")\n",
    "\n",
    "plt.subplot(223)\n",
    "data1[\"YrSold\"].value_counts().plot(kind = \"bar\")\n",
    "plt.xlabel(\"YrSold\")\n",
    "\n",
    "plt.subplot(224)\n",
    "data1[\"YearRemodAdd\"].value_counts().plot(kind = \"bar\")\n",
    "plt.xlabel(\"YearRemodAdd\")\n"
   ]
  },
  {
   "cell_type": "code",
   "execution_count": 72,
   "metadata": {},
   "outputs": [
    {
     "data": {
      "text/plain": [
       "<matplotlib.axes._subplots.AxesSubplot at 0x111acf73b48>"
      ]
     },
     "execution_count": 72,
     "metadata": {},
     "output_type": "execute_result"
    },
    {
     "data": {
      "image/png": "[encoded data removed]",
      "text/plain": [
       "<Figure size 1440x720 with 1 Axes>"
      ]
     },
     "metadata": {
      "needs_background": "light"
     },
     "output_type": "display_data"
    }
   ],
   "source": [
    "plt.figure(figsize = (20,10))\n",
    "\n",
    "data1[\"YearBuilt\"].value_counts().plot(kind = \"box\")"
   ]
  },
  {
   "cell_type": "code",
   "execution_count": 73,
   "metadata": {},
   "outputs": [],
   "source": [
    "#Bivariate Analysis\n",
    "#In the following cells, we're trying to find out the relationship between the target variable ( SalePrice) and the other variables present in the data. Heatmap has been used for calculating the correlation between SalePrice and other numeric variables.\n"
   ]
  },
  {
   "cell_type": "code",
   "execution_count": 16,
   "metadata": {},
   "outputs": [],
   "source": [
    "# calculating pearson correlation \n",
    "numeric = [\"float64\",\"int64\"]\n",
    "data_numeric = data1.select_dtypes(include = numeric)\n",
    "data_numeric_corr = data_numeric.corr(method = \"pearson\")\n"
   ]
  },
  {
   "cell_type": "code",
   "execution_count": 17,
   "metadata": {},
   "outputs": [
    {
     "ename": "NameError",
     "evalue": "name 'go' is not defined",
     "output_type": "error",
     "traceback": [
      "\u001b[1;31m---------------------------------------------------------------------------\u001b[0m",
      "\u001b[1;31mNameError\u001b[0m                                 Traceback (most recent call last)",
      "\u001b[1;32m<ipython-input-17-47899d89eb08>\u001b[0m in \u001b[0;36m<module>\u001b[1;34m\u001b[0m\n\u001b[0;32m      1\u001b[0m \u001b[1;31m# creating a heatmap\u001b[0m\u001b[1;33m\u001b[0m\u001b[1;33m\u001b[0m\u001b[1;33m\u001b[0m\u001b[0m\n\u001b[1;32m----> 2\u001b[1;33m fig = go.Figure(data = go.Heatmap(z = np.round(data_numeric_corr,2),\n\u001b[0m\u001b[0;32m      3\u001b[0m                                   x = data_numeric.columns,y = data_numeric.columns  ))\n\u001b[0;32m      4\u001b[0m \u001b[0mfig\u001b[0m\u001b[1;33m.\u001b[0m\u001b[0mupdate_layout\u001b[0m\u001b[1;33m(\u001b[0m\u001b[0mheight\u001b[0m \u001b[1;33m=\u001b[0m \u001b[1;36m800\u001b[0m\u001b[1;33m,\u001b[0m \u001b[0mwidth\u001b[0m \u001b[1;33m=\u001b[0m \u001b[1;36m800\u001b[0m\u001b[1;33m)\u001b[0m\u001b[1;33m\u001b[0m\u001b[1;33m\u001b[0m\u001b[0m\n\u001b[0;32m      5\u001b[0m \u001b[0mfig\u001b[0m\u001b[1;33m.\u001b[0m\u001b[0mshow\u001b[0m\u001b[1;33m(\u001b[0m\u001b[1;33m)\u001b[0m\u001b[1;33m\u001b[0m\u001b[1;33m\u001b[0m\u001b[0m\n",
      "\u001b[1;31mNameError\u001b[0m: name 'go' is not defined"
     ]
    }
   ],
   "source": [
    "# creating a heatmap\n",
    "fig = go.Figure(data = go.Heatmap(z = np.round(data_numeric_corr,2),\n",
    "                                  x = data_numeric.columns,y = data_numeric.columns  ))\n",
    "fig.update_layout(height = 800, width = 800)\n",
    "fig.show()\n",
    "\n",
    "#### NEED TO NOTE DOWN THE HIGH CORRELATION VARIABLES AGAINST SALEPRICE"
   ]
  },
  {
   "cell_type": "code",
   "execution_count": null,
   "metadata": {},
   "outputs": [],
   "source": [
    "#We shall see the relationship between SalePrice(target variable) with non-numeric variales present in the data.\n",
    "# Comparison of attributes with SalePrice with the help of subplots\n",
    "# Character and categorical variables analyses\n",
    "\n",
    "from plotly.subplots import make_subplots\n",
    "fig = make_subplots(rows =2, cols =4,shared_yaxes= True,\n",
    "                    specs = [[{\"type\":\"xy\"},{\"type\":\"xy\"},{\"type\":\"xy\"},{\"type\":\"xy\"}],\n",
    "                             [{\"type\":\"xy\"},{\"type\":\"xy\"},{\"type\":\"xy\"},{\"type\":\"xy\"}]]# ,\n",
    "                            # [{\"type\":\"xy\"},{\"type\":\"xy\"},{\"type\":\"xy\"},{\"type\":\"xy\"}],\n",
    "                            # [{\"type\":\"xy\"},{\"type\":\"xy\"},{\"type\":\"xy\"},{\"type\":\"xy\"}],\n",
    "                            # [{\"type\":\"xy\"},{\"type\":\"xy\"},{\"type\":\"xy\"},{\"type\":\"xy\"}],\n",
    "                            # [{\"type\":\"xy\"},{\"type\":\"xy\"},{\"type\":\"xy\"},{\"type\":\"xy\"}],\n",
    "                            # [{\"type\":\"xy\"},{\"type\":\"xy\"},{\"type\":\"xy\"},{\"type\":\"xy\"}],\n",
    "                            # [{\"type\":\"xy\"},{\"type\":\"xy\"},{\"type\":\"xy\"},{\"type\":\"xy\"}],\n",
    "                            # [{\"type\":\"xy\"},{\"type\":\"xy\"},{\"type\":\"xy\"},{\"type\":\"xy\"}],\n",
    "                            # [{\"type\":\"xy\"},{\"type\":\"xy\"},{\"type\":\"xy\"},{\"type\":\"xy\"}]],\n",
    "#subplot_titles =(\"Plot1\",\"Plot2\",\"Plot3\",\"Plot4\",\"Plot5\",\"Plot6\",\"Plot7\",\"Plot8\")\n",
    "                    #,\n",
    "#                 \"Plot9\",\"Plot10\",\"Plot11\",\"Plot12\",\n",
    "#                 \"Plot13\",\"Plot14\",\"Plot15\",\"Plot16\",\n",
    "#                 \"Plot17\",\"Plot18\",\"Plot19\"))\n",
    "                       \n",
    "\n",
    "fig.add_trace(\n",
    "    go.Bar(x = data1['BldgType'], y= data1['SalePrice'],\n",
    "          marker_color = \"Violet\",marker_line_color=\"Violet\"),\n",
    "    row = 1, col=1\n",
    ")\n",
    "\n",
    "\n",
    "fig.add_trace(\n",
    "    go.Bar(x = data1['BsmtCond'],y = data1[\"SalePrice\"],\n",
    "               marker_line_color = \"green\"),\n",
    "    row =1,col =2\n",
    ")\n",
    "\n",
    "fig.add_trace(\n",
    "    go.Bar(x = data1['BsmtExposure'],y = data1[\"SalePrice\"],\n",
    "          marker_line_color = \"red\"),\n",
    "    row =1,col = 3\n",
    ")\n",
    "\n",
    "fig.add_trace(\n",
    "    go.Bar(x = data1['BsmtFinType1'],y = data1[\"SalePrice\"],\n",
    "          marker_color = \"lightblue\",marker_line_color = \"lightblue\"),\n",
    "    row = 1,col=4\n",
    ")\n",
    "\n",
    "fig.add_trace(\n",
    "    go.Bar(x = data1['BsmtFinType2'],y= data1[\"SalePrice\"],\n",
    "          marker_color = \"lightgreen\",marker_line_color = \"lightgreen\"),\n",
    "    row =2,col=1\n",
    ")\n",
    "\n",
    "fig.add_trace(\n",
    "    go.Bar(x = data1['BsmtQual'],y = data1[\"SalePrice\"],\n",
    "          marker_color = \"indigo\",marker_line_color = \"indigo\"),\n",
    "    row =2,col=2\n",
    ")\n",
    "\n",
    "fig.add_trace(\n",
    "    go.Bar(x = data1['CentralAir'], y= data1[\"SalePrice\"],\n",
    "             marker_line_color = \"darkgreen\"),\n",
    "    row =2,col =3\n",
    ")\n",
    "\n",
    "fig.add_trace(\n",
    "    go.Bar(x = data1['Condition1'], y= data1[\"SalePrice\"],\n",
    "              marker_line_color = \"lightgreen\"),\n",
    "    row=2,col=4\n",
    ")\n",
    "\n",
    "# updating x axis properties\n",
    "fig.update_xaxes(title_text = \"Building Type\", row=1,col=1)\n",
    "fig.update_xaxes(title_text = \"Basement Condition\", row=1,col=2)\n",
    "fig.update_xaxes(title_text = \"Basement Exposure\",row=1,col=3)\n",
    "fig.update_xaxes(title_text = \"Bsmt type1 finished sq.ft.\",row=1,col=4)\n",
    "fig.update_xaxes(title_text = \"Bsmt type2 finished sq.ft.\",row=2,col=1)\n",
    "fig.update_xaxes(title_text = \"Basement Quality\",row=2,col=2)\n",
    "fig.update_xaxes(title_text = \"Central Air Conditioning\",row=2,col=3,tickangle =-45)\n",
    "fig.update_xaxes(title_text = \"Main-road/rail Proximity\",row=2,col=4,tickangle =-45)\n",
    "\n",
    "fig.update_layout(height =800,width =1000, title_text =\"Saleprice according to house features\", template = \"ggplot2\")\n",
    "fig.show()\n",
    "\n"
   ]
  },
  {
   "cell_type": "code",
   "execution_count": null,
   "metadata": {},
   "outputs": [],
   "source": [
    "# Comparison of attributes with SalePrice with the help of subplots\n",
    "# Character and categorical variables analyses\n",
    "from plotly.subplots import make_subplots\n",
    "fig = make_subplots(rows =2, cols =4,shared_yaxes= True,\n",
    "                    specs = [[{\"type\":\"xy\"},{\"type\":\"xy\"},{\"type\":\"xy\"},{\"type\":\"xy\"}],\n",
    "                             [{\"type\":\"xy\"},{\"type\":\"xy\"},{\"type\":\"xy\"},{\"type\":\"xy\"}]],\n",
    "                    subplot_titles =(\"Plot1\",\"Plot2\",\"Plot3\",\"Plot4\",\n",
    "                 \"Plot5\",\"Plot6\",\"Plot7\",\"Plot8\"))\n",
    "\n",
    "fig.add_trace(\n",
    "    go.Bar(x = data1['Condition2'],y= data1[\"SalePrice\"],\n",
    "          marker_line_color = \"blue\"),\n",
    "    row=1,col=1\n",
    ")\n",
    "\n",
    "fig.add_trace(\n",
    "    go.Bar(x = data1['Electrical'],y = data1[\"SalePrice\"],\n",
    "          marker_color = \"pink\", marker_line_color = \"pink\"),\n",
    "    row=1,col=2\n",
    ")\n",
    "\n",
    "fig.add_trace(\n",
    "    go.Bar(x = data1['ExterCond'],y= data1[\"SalePrice\"],\n",
    "          marker_color = \"darkblue\",marker_line_color = \"darkblue\"),\n",
    "    row=1,col=3\n",
    ")\n",
    "\n",
    "fig.add_trace(\n",
    "    go.Bar(x = data1['ExterQual'],y= data1[\"SalePrice\"],\n",
    "          marker_color = \"crimson\",marker_line_color = \"crimson\"),\n",
    "    row=1,col=4\n",
    ")\n",
    "\n",
    "fig.add_trace(\n",
    "    go.Bar(x = data1['Exterior1st'],y= data1[\"SalePrice\"],\n",
    "          marker_line_color = \"green\"),\n",
    "    row=2,col=1\n",
    ")\n",
    "\n",
    "fig.add_trace(\n",
    "    go.Bar(x = data1['Exterior2nd'],y= data1[\"SalePrice\"],\n",
    "             marker_color = \"violet\", marker_line_color = \"violet\" ),\n",
    "    row=2,col=2\n",
    ")\n",
    "\n",
    "fig.add_trace(\n",
    "    go.Bar(x = data1['FireplaceQu'],y= data1[\"SalePrice\"],\n",
    "          marker_line_color = \"pink\"),\n",
    "    row=2,col=3\n",
    ")\n",
    "\n",
    "fig.add_trace(\n",
    "    go.Bar(x = data1['Foundation'],y= data1[\"SalePrice\"],\n",
    "          marker_color = \"chocolate\",marker_line_color = \"chocolate\"),\n",
    "    row=2,col=4\n",
    ")\n",
    "    \n",
    "# updating x axis properties\n",
    "fig.update_xaxes(title_text = \"2nd Main-road/rail Proximity\",row=1,col=1)\n",
    "fig.update_xaxes(title_text = \"Electrical\",row=1,col=2)\n",
    "fig.update_xaxes(title_text = \"External Condition\",row=1,col=3)\n",
    "fig.update_xaxes(title_text = \"Exterior Quality\",row=1,col=4)\n",
    "fig.update_xaxes(title_text = \"Exterior covering\",row=2,col=1)\n",
    "fig.update_xaxes(title_text = \"Exterior Covering(if >1)\",row=2,col=2)\n",
    "fig.update_xaxes(title_text = \"Fireplace Quality\",row=2,col=3)\n",
    "fig.update_xaxes(title_text = \"Foundation\",row=2,col=4)\n",
    "\n",
    "fig.update_layout(height =800,width =1000, title_text =\"Saleprice according to house features\", template = \"ggplot2\")\n",
    "fig.show()\n",
    "\n"
   ]
  },
  {
   "cell_type": "code",
   "execution_count": null,
   "metadata": {},
   "outputs": [],
   "source": [
    "# Comparison of attributes with SalePrice with the help of subplots\n",
    "# Character and categorical variables analyses\n",
    "from plotly.subplots import make_subplots\n",
    "fig = make_subplots(rows =2, cols =4,shared_yaxes= True,\n",
    "                    specs = [[{\"type\":\"xy\"},{\"type\":\"xy\"},{\"type\":\"xy\"},{\"type\":\"xy\"}],\n",
    "                             [{\"type\":\"xy\"},{\"type\":\"xy\"},{\"type\":\"xy\"},{\"type\":\"xy\"}]],\n",
    "                    subplot_titles =(\"Plot1\",\"Plot2\",\"Plot3\",\"Plot4\",\n",
    "                 \"Plot5\",\"Plot6\",\"Plot7\",\"Plot8\"))\n",
    "\n",
    "fig.add_trace(\n",
    "    go.Bar(x = data1['Functional'],y= data1[\"SalePrice\"],\n",
    "          marker_color = \"red\",marker_line_color = \"red\"),\n",
    "    row=1,col=1\n",
    ")\n",
    "\n",
    "fig.add_trace(\n",
    "    go.Bar(x = data1['GarageCond'],y= data1[\"SalePrice\"],\n",
    "          marker_color = \"orange\",marker_line_color = \"orange\"),\n",
    "    row=1,col=2\n",
    ")\n",
    "\n",
    "fig.add_trace(\n",
    "    go.Bar(x = data1['GarageFinish'],y= data1[\"SalePrice\"],\n",
    "          marker_color = \"violet\",marker_line_color = \"violet\"),\n",
    "    row=1,col=3\n",
    ")\n",
    "\n",
    "fig.add_trace(\n",
    "    go.Bar(x = data1['GarageQual'],y= data1[\"SalePrice\"],\n",
    "          marker_color = \"green\",marker_line_color = \"green\"),\n",
    "    row=1,col=4\n",
    ")\n",
    "\n",
    "fig.add_trace(\n",
    "    go.Bar(x = data1['GarageType'],y= data1[\"SalePrice\"],\n",
    "          marker_line_color = \"turquoise\"),\n",
    "    row=2,col=1\n",
    ")\n",
    "\n",
    "fig.add_trace(\n",
    "    go.Bar(x = data1['Heating'],y= data1[\"SalePrice\"],\n",
    "          marker_line_color = \"darkgreen\"),\n",
    "    row=2,col=2\n",
    ")\n",
    "\n",
    "fig.add_trace(\n",
    "    go.Bar(x = data1['HeatingQC'],y= data1[\"SalePrice\"],\n",
    "          marker_line_color = \"lightgreen\"),\n",
    "    row=2,col=3\n",
    ")\n",
    "\n",
    "fig.add_trace(\n",
    "    go.Bar(x = data1['HouseStyle'],y= data1[\"SalePrice\"],\n",
    "          marker_line_color = \"blue\"),\n",
    "    row=2,col=4\n",
    ")\n",
    "# updating x axis properties\n",
    "fig.update_xaxes(title_text = \"Functional\",row=1,col=1)\n",
    "fig.update_xaxes(title_text = \"Garage Condition\",row=2,col=2)\n",
    "fig.update_xaxes(title_text = \"Garage Finish\",row=2,col=3)\n",
    "fig.update_xaxes(title_text = \"Garage Quality\",row=2,col=4)\n",
    "fig.update_xaxes(title_text = \"Garage Type\",row=2,col=1)\n",
    "fig.update_xaxes(title_text = \"Heating\",row=2,col=2)\n",
    "fig.update_xaxes(title_text = \"Heating Quality\",row=2,col=3)\n",
    "fig.update_xaxes(title_text = \"House Style\",row=2,col=4)\n",
    "\n",
    "fig.update_layout(height =800,width =1000, title_text =\"Saleprice according to house features\", template = \"ggplot2\")\n",
    "fig.show()\n",
    "\n"
   ]
  },
  {
   "cell_type": "code",
   "execution_count": null,
   "metadata": {},
   "outputs": [],
   "source": [
    "# Comparison of attributes with SalePrice with the help of subplots\n",
    "# Character and categorical variables analyses\n",
    "from plotly.subplots import make_subplots\n",
    "fig = make_subplots(rows =2, cols =4,shared_yaxes= True,\n",
    "                    specs = [[{\"type\":\"xy\"},{\"type\":\"xy\"},{\"type\":\"xy\"},{\"type\":\"xy\"}],\n",
    "                             [{\"type\":\"xy\"},{\"type\":\"xy\"},{\"type\":\"xy\"},{\"type\":\"xy\"}]],\n",
    "                    subplot_titles =(\"Plot1\",\"Plot2\",\"Plot3\",\"Plot4\",\n",
    "                 \"Plot5\",\"Plot6\",\"Plot7\",\"Plot8\"))\n",
    "\n",
    "fig.add_trace(\n",
    "    go.Bar(x = data1['KitchenQual'],y= data1[\"SalePrice\"],\n",
    "          marker_color = \"violet\",marker_line_color = \"violet\"),\n",
    "    row=1,col=1\n",
    ")\n",
    "\n",
    "fig.add_trace(\n",
    "    go.Bar(x = data1['LandContour'],y= data1[\"SalePrice\"],\n",
    "          marker_line_color = \"darkgreen\"),\n",
    "    row=1,col=2\n",
    ")\n",
    "\n",
    "fig.add_trace(\n",
    "    go.Bar(x = data1['LandSlope'],y= data1[\"SalePrice\"],\n",
    "          marker_line_color = \"green\"),\n",
    "    row=1,col=3\n",
    ")\n",
    "\n",
    "fig.add_trace(\n",
    "    go.Bar(x = data1['LotConfig'],y= data1[\"SalePrice\"],\n",
    "          marker_line_color = \"blue\"),\n",
    "    row=1,col=4\n",
    ")\n",
    "\n",
    "fig.add_trace(\n",
    "    go.Bar(x = data1['LotShape'],y= data1[\"SalePrice\"],\n",
    "          marker_line_color = \"violet\"),\n",
    "    row=2,col=1\n",
    ")\n",
    "\n",
    "fig.add_trace(\n",
    "    go.Bar(x = data1['MSZoning'],y= data1[\"SalePrice\"],\n",
    "          marker_line_color = \"burlywood\"),\n",
    "    row=2,col=2\n",
    ")\n",
    "\n",
    "fig.add_trace(\n",
    "    go.Bar(x = data1['MasVnrType'],y= data1[\"SalePrice\"],\n",
    "          marker_line_color = \"greenyellow\"),\n",
    "    row=2,col=3\n",
    ")\n",
    "\n",
    "fig.add_trace(\n",
    "    go.Bar(x = data1['Neighborhood'],y= data1[\"SalePrice\"],\n",
    "          marker_line_color = \"green\"),\n",
    "    row=2,col=4\n",
    ")\n",
    "\n",
    "# updating x axis properties\n",
    "fig.update_xaxes(title_text = \"Kitchen Quality\",row=1,col=1)\n",
    "fig.update_xaxes(title_text = \"Land Contour\",row=1,col=2)\n",
    "fig.update_xaxes(title_text = \"Land Slope\",row=1,col=3)\n",
    "fig.update_xaxes(title_text = \"Lot Configuration\",row=1,col=4)\n",
    "fig.update_xaxes(title_text = \"Lot Shape\",row=2,col=1)\n",
    "fig.update_xaxes(title_text = \"General Zone Classification\",row=2,col=2)\n",
    "fig.update_xaxes(title_text = \"Masonry Veener Type\",row=2,col=3)\n",
    "fig.update_xaxes(title_text = \"Neighborhood\",row=2,col=4)\n",
    "\n",
    "fig.update_layout(height =800,width =1000, title_text =\"Saleprice according to house features\", template = \"ggplot2\")\n",
    "fig.show()\n"
   ]
  },
  {
   "cell_type": "code",
   "execution_count": null,
   "metadata": {},
   "outputs": [],
   "source": [
    "# Comparison of attributes with SalePrice with the help of subplots\n",
    "# Character and categorical variables analyses\n",
    "from plotly.subplots import make_subplots\n",
    "fig = make_subplots(rows =2, cols =4,shared_yaxes= True,\n",
    "                    specs = [[{\"type\":\"xy\"},{\"type\":\"xy\"},{\"type\":\"xy\"},{\"type\":\"xy\"}],\n",
    "                             [{\"type\":\"xy\"},{\"type\":\"xy\"},{\"type\":\"xy\"},{\"type\":\"xy\"}]],\n",
    "                    subplot_titles =(\"Plot1\",\"Plot2\",\"Plot3\",\"Plot4\",\n",
    "                 \"Plot5\",\"Plot6\",\"Plot7\",\"Plot8\"))\n",
    "\n",
    "fig.add_trace(\n",
    "    go.Bar(x = data1['PavedDrive'],y= data1[\"SalePrice\"],\n",
    "          marker_line_color = \"blue\"),\n",
    "    row=1,col=1\n",
    ")\n",
    "\n",
    "fig.add_trace(\n",
    "    go.Bar(x = data1['RoofMatl'],y= data1[\"SalePrice\"],\n",
    "          marker_line_color = \"violet\"),\n",
    "    row=1,col=2\n",
    ")\n",
    "\n",
    "fig.add_trace(\n",
    "    go.Bar(x = data1['RoofStyle'],y= data1[\"SalePrice\"],\n",
    "          marker_line_color = \"purple\"),\n",
    "    row=1,col=3\n",
    ")\n",
    "\n",
    "fig.add_trace(\n",
    "    go.Bar(x = data1['SaleCondition'],y= data1[\"SalePrice\"],\n",
    "          marker_line_color = \"rosybrown\"),\n",
    "    row=1,col=4\n",
    ")\n",
    "\n",
    "fig.add_trace(\n",
    "    go.Bar(x = data1['SaleType'],y= data1[\"SalePrice\"],\n",
    "          marker_line_color = \"darkgreen\"),\n",
    "    row=2,col=1\n",
    ")\n",
    "\n",
    "fig.add_trace(\n",
    "    go.Bar(x = data1['Street'],y= data1[\"SalePrice\"],\n",
    "          marker_line_color = \"green\"),\n",
    "    row=2,col=2\n",
    ")\n",
    "\n",
    "fig.add_trace(\n",
    "    go.Bar(x = data1['Utilities'],y= data1[\"SalePrice\"],\n",
    "          marker_line_color = \"blue\"),\n",
    "    row=2,col=3\n",
    ")\n",
    "\n",
    "fig.add_trace(\n",
    "    go.Bar(x = data1['BedroomAbvGr'],y= data1[\"SalePrice\"],\n",
    "          marker_line_color = \"purple\"),\n",
    "    row=2,col=4\n",
    ")\n",
    "\n",
    "# updating x axis properties\n",
    "fig.update_xaxes(title_text = \"Paved Drive\",row=1,col=1)\n",
    "fig.update_xaxes(title_text = \"Roof Material\",row=1,col=2)\n",
    "fig.update_xaxes(title_text = \"Roof Style\",row=1,col=3)\n",
    "fig.update_xaxes(title_text = \"Sale Condition\",row=1,col=4)\n",
    "fig.update_xaxes(title_text = \"Sale Type\",row=2,col=1)\n",
    "fig.update_xaxes(title_text = \"Street\",row=2,col=2)\n",
    "fig.update_xaxes(title_text = \"Utilities\",row=2,col=3)\n",
    "fig.update_xaxes(title_text = \"No. of Bedrooms\",row=2,col=4)\n",
    "\n",
    "\n",
    "fig.update_layout(height =800,width =1000, title_text =\"Saleprice according to house features\", template = \"ggplot2\")\n",
    "fig.show()\n"
   ]
  },
  {
   "cell_type": "code",
   "execution_count": null,
   "metadata": {},
   "outputs": [],
   "source": [
    "# heatmap\n",
    "numeric = [\"float64\",\"int64\"]\n",
    "num_columns = data.select_dtypes(include = numeric)\n",
    "display(num_columns.columns)\n",
    "\n",
    "#creating heatmaps\n",
    "import plotly.figure_factory as ff"
   ]
  },
  {
   "cell_type": "code",
   "execution_count": 35,
   "metadata": {},
   "outputs": [],
   "source": [
    "import statsmodels.api as sm\n",
    "from statsmodels.formula.api import ols"
   ]
  },
  {
   "cell_type": "code",
   "execution_count": 71,
   "metadata": {
    "scrolled": true
   },
   "outputs": [],
   "source": [
    "#data1.columns"
   ]
  },
  {
   "cell_type": "code",
   "execution_count": 57,
   "metadata": {},
   "outputs": [
    {
     "name": "stdout",
     "output_type": "stream",
     "text": [
      "                df        sum_sq       mean_sq          F    PR(>F)\n",
      "MSSubClass     1.0  6.541130e+10  6.541130e+10  10.431466  0.001266\n",
      "Residual    1458.0  9.142500e+12  6.270576e+09        NaN       NaN\n",
      "              df        sum_sq       mean_sq          F        PR(>F)\n",
      "MSZoning     4.0  9.904000e+11  2.476000e+11  43.840282  8.817634e-35\n",
      "Residual  1455.0  8.217511e+12  5.647774e+09        NaN           NaN\n",
      "              df        sum_sq       mean_sq        F    PR(>F)\n",
      "Street       1.0  1.550534e+10  1.550534e+10  2.45929  0.117049\n",
      "Residual  1458.0  9.192406e+12  6.304805e+09      NaN       NaN\n",
      "              df        sum_sq       mean_sq          F        PR(>F)\n",
      "LotShape     3.0  7.032607e+11  2.344202e+11  40.132852  6.447524e-25\n",
      "Residual  1456.0  8.504651e+12  5.841106e+09        NaN           NaN\n",
      "                 df        sum_sq       mean_sq          F        PR(>F)\n",
      "LandContour     3.0  2.375097e+11  7.916988e+10  12.850188  2.742217e-08\n",
      "Residual     1456.0  8.970402e+12  6.160990e+09        NaN           NaN\n",
      "               df        sum_sq       mean_sq         F    PR(>F)\n",
      "Utilities     1.0  1.886693e+09  1.886693e+09  0.298804  0.584717\n",
      "Residual   1458.0  9.206025e+12  6.314146e+09       NaN       NaN\n",
      "               df        sum_sq       mean_sq         F    PR(>F)\n",
      "LotConfig     4.0  1.935444e+11  4.838611e+10  7.809954  0.000003\n",
      "Residual   1455.0  9.014367e+12  6.195441e+09       NaN       NaN\n",
      "               df        sum_sq       mean_sq         F    PR(>F)\n",
      "LandSlope     2.0  2.469217e+10  1.234609e+10  1.958817  0.141396\n",
      "Residual   1457.0  9.183219e+12  6.302827e+09       NaN       NaN\n"
     ]
    }
   ],
   "source": [
    "mod1=ols('SalePrice~MSSubClass',data=data1).fit()\n",
    "anov_tabl1=sm.stats.anova_lm(mod1)\n",
    "print(anov_tabl1)\n",
    "#p-value=0.0013\n",
    "\n",
    "\n",
    "mod2=ols('SalePrice~ MSZoning',data=data1).fit()\n",
    "anov_tabl2=sm.stats.anova_lm(mod2)\n",
    "print(anov_tabl2)\n",
    "#p-value=8.81e-35\n",
    "\n",
    "mod3=ols('SalePrice~ Street',data=data1).fit()\n",
    "anov_tabl3=sm.stats.anova_lm(mod3)\n",
    "print(anov_tabl3)\n",
    "#p-value=0.11\n",
    "\n",
    "\n",
    "mod4=ols('SalePrice~ LotShape',data=data1).fit()\n",
    "anov_tabl4=sm.stats.anova_lm(mod4)\n",
    "print(anov_tabl4)\n",
    "#p-value=6.64e-25\n",
    "\n",
    "mod5=ols('SalePrice~ LandContour',data=data1).fit()\n",
    "anov_tabl5=sm.stats.anova_lm(mod5)\n",
    "print(anov_tabl5)\n",
    "#p-value= 2.74e-08\n",
    "\n",
    "mod6=ols('SalePrice~ Utilities',data=data1).fit()\n",
    "anov_tabl6=sm.stats.anova_lm(mod6)\n",
    "print(anov_tabl6)\n",
    "#p-value= 0.585\n",
    "\n",
    "mod7=ols('SalePrice~ LotConfig',data=data1).fit()\n",
    "anov_tabl7=sm.stats.anova_lm(mod7)\n",
    "print(anov_tabl7)\n",
    "#p-value = 0.000003\n",
    "\n",
    "mod8=ols('SalePrice~ LandSlope',data=data1).fit()\n",
    "anov_tabl8=sm.stats.anova_lm(mod8)\n",
    "print(anov_tabl8)\n",
    "#p-value = 0.141\n"
   ]
  },
  {
   "cell_type": "code",
   "execution_count": 60,
   "metadata": {},
   "outputs": [
    {
     "name": "stdout",
     "output_type": "stream",
     "text": [
      "                  df        sum_sq       mean_sq          F         PR(>F)\n",
      "Neighborhood    24.0  5.023606e+12  2.093169e+11  71.784865  1.558600e-225\n",
      "Residual      1435.0  4.184305e+12  2.915892e+09        NaN            NaN\n",
      "                df        sum_sq       mean_sq         F        PR(>F)\n",
      "Condition1     8.0  3.004600e+11  3.755750e+10  6.118017  8.904549e-08\n",
      "Residual    1451.0  8.907451e+12  6.138836e+09       NaN           NaN\n",
      "                df        sum_sq       mean_sq         F    PR(>F)\n",
      "Condition2     7.0  9.115059e+10  1.302151e+10  2.073899  0.043426\n",
      "Residual    1452.0  9.116761e+12  6.278761e+09       NaN       NaN\n",
      "                df        sum_sq       mean_sq          F        PR(>F)\n",
      "HouseStyle     7.0  7.947590e+11  1.135370e+11  19.595001  3.376777e-25\n",
      "Residual    1452.0  8.413152e+12  5.794182e+09        NaN           NaN\n",
      "                 df        sum_sq       mean_sq            F         PR(>F)\n",
      "OverallQual     1.0  5.760947e+12  5.760947e+12  2436.770591  2.185675e-313\n",
      "Residual     1458.0  3.446964e+12  2.364173e+09          NaN            NaN\n",
      "                 df        sum_sq       mean_sq         F    PR(>F)\n",
      "OverallCond     1.0  5.581413e+10  5.581413e+10  8.891623  0.002912\n",
      "Residual     1458.0  9.152097e+12  6.277159e+09       NaN       NaN\n",
      "              df        sum_sq       mean_sq          F        PR(>F)\n",
      "BldgType     4.0  3.179863e+11  7.949656e+10  13.011077  2.056736e-10\n",
      "Residual  1455.0  8.889925e+12  6.109914e+09        NaN           NaN\n"
     ]
    }
   ],
   "source": [
    "mod9=ols('SalePrice~ Neighborhood',data=data1).fit()\n",
    "anov_tabl9=sm.stats.anova_lm(mod9)\n",
    "print(anov_tabl9)\n",
    "#p-value = 1.558600e-225\n",
    "\n",
    "mod10=ols('SalePrice~Condition1',data=data1).fit()\n",
    "anov_tabl10=sm.stats.anova_lm(mod10)\n",
    "print(anov_tabl10)\n",
    "#p-value = 8.904549e-08\n",
    "\n",
    "mod11=ols('SalePrice~ Condition2',data=data1).fit()\n",
    "anov_tabl11=sm.stats.anova_lm(mod11)\n",
    "print(anov_tabl11)\n",
    "#p-value = 0.043426\n",
    "\n",
    "mod12=ols('SalePrice~ HouseStyle',data=data1).fit()\n",
    "anov_tabl12=sm.stats.anova_lm(mod12)\n",
    "print(anov_tabl12)\n",
    "#p-value = 3.376777e-25\n",
    "\n",
    "mod13=ols('SalePrice~ OverallQual',data=data1).fit()\n",
    "anov_tabl13=sm.stats.anova_lm(mod13)\n",
    "print(anov_tabl13)\n",
    "#p-value = 2.185675e-313\n",
    "\n",
    "mod14=ols('SalePrice~ OverallCond',data=data1).fit()\n",
    "anov_tabl14=sm.stats.anova_lm(mod14)\n",
    "print(anov_tabl14)\n",
    "#p-value = 0.002912\n",
    "\n",
    "mod15=ols('SalePrice~ BldgType',data=data1).fit()\n",
    "anov_tabl15=sm.stats.anova_lm(mod15)\n",
    "print(anov_tabl15)\n",
    "#p-value = 2.056736e-10\n",
    "\n",
    "\n"
   ]
  },
  {
   "cell_type": "code",
   "execution_count": null,
   "metadata": {},
   "outputs": [],
   "source": []
  },
  {
   "cell_type": "code",
   "execution_count": 63,
   "metadata": {},
   "outputs": [
    {
     "name": "stdout",
     "output_type": "stream",
     "text": [
      "               df        sum_sq       mean_sq          F        PR(>F)\n",
      "RoofStyle     5.0  5.312655e+11  1.062531e+11  17.805497  3.653523e-17\n",
      "Residual   1454.0  8.676646e+12  5.967432e+09        NaN           NaN\n",
      "                 df        sum_sq       mean_sq          F        PR(>F)\n",
      "Exterior1st    14.0  1.406721e+12  1.004801e+11  18.611743  2.586089e-43\n",
      "Residual     1445.0  7.801190e+12  5.398747e+09        NaN           NaN\n",
      "                 df        sum_sq       mean_sq         F        PR(>F)\n",
      "Exterior2nd    15.0  1.416452e+12  9.443011e+10  17.50084  4.842186e-43\n",
      "Residual     1444.0  7.791460e+12  5.395748e+09       NaN           NaN\n",
      "                df        sum_sq       mean_sq          F        PR(>F)\n",
      "MasVnrType     3.0  1.713827e+12  5.712756e+11  111.67238  4.793331e-65\n",
      "Residual    1448.0  7.407445e+12  5.115639e+09        NaN           NaN\n",
      "               df        sum_sq       mean_sq           F         PR(>F)\n",
      "ExterQual     3.0  4.395744e+12  1.465248e+12  443.334831  1.439551e-204\n",
      "Residual   1456.0  4.812167e+12  3.305060e+09         NaN            NaN\n",
      "               df        sum_sq       mean_sq         F        PR(>F)\n",
      "ExterCond     4.0  2.174690e+11  5.436724e+10  8.798714  5.106681e-07\n",
      "Residual   1455.0  8.990442e+12  6.178998e+09       NaN           NaN\n",
      "                df        sum_sq       mean_sq           F        PR(>F)\n",
      "Foundation     5.0  2.360618e+12  4.721235e+11  100.253851  5.791895e-91\n",
      "Residual    1454.0  6.847294e+12  4.709280e+09         NaN           NaN\n",
      "              df        sum_sq       mean_sq           F         PR(>F)\n",
      "BsmtQual     3.0  4.066554e+12  1.355518e+12  392.913506  9.610615e-186\n",
      "Residual  1419.0  4.895429e+12  3.449915e+09         NaN            NaN\n"
     ]
    }
   ],
   "source": [
    "mod16=ols('SalePrice~ RoofStyle',data=data1).fit()\n",
    "anov_tabl16=sm.stats.anova_lm(mod16)\n",
    "print(anov_tabl16)\n",
    "#p-value = 3.653523e-17\n",
    "\n",
    "\n",
    "mod17=ols('SalePrice~ Exterior1st',data=data1).fit()\n",
    "anov_tabl17=sm.stats.anova_lm(mod17)\n",
    "print(anov_tabl17)\n",
    "#p-value = 2.586089e-43\n",
    "\n",
    "\n",
    "mod18=ols('SalePrice~ Exterior2nd',data=data1).fit()\n",
    "anov_tabl18=sm.stats.anova_lm(mod18)\n",
    "print(anov_tabl18)\n",
    "#p-value = 4.842186e-43\n",
    "\n",
    "\n",
    "mod19=ols('SalePrice~ MasVnrType',data=data1).fit()\n",
    "anov_tabl19=sm.stats.anova_lm(mod19)\n",
    "print(anov_tabl19)\n",
    "#p-value = 4.793331e-65\n",
    "\n",
    "\n",
    "mod20=ols('SalePrice~ ExterQual',data=data1).fit()\n",
    "anov_tabl20=sm.stats.anova_lm(mod20)\n",
    "print(anov_tabl20)\n",
    "#p-value = 1.439551e-204\n",
    "\n",
    "\n",
    "mod21=ols('SalePrice~ ExterCond',data=data1).fit()\n",
    "anov_tabl21=sm.stats.anova_lm(mod21)\n",
    "print(anov_tabl21)\n",
    "#p-value = 5.106681e-07\n",
    "\n",
    "\n",
    "mod22=ols('SalePrice~ Foundation',data=data1).fit()\n",
    "anov_tabl22=sm.stats.anova_lm(mod22)\n",
    "print(anov_tabl22)\n",
    "#p-value = 5.791895e-91\n",
    "\n",
    "\n",
    "mod23=ols('SalePrice~ BsmtQual',data=data1).fit()\n",
    "anov_tabl23=sm.stats.anova_lm(mod23)\n",
    "print(anov_tabl23)\n",
    "#p-value =9.610615e-186\n",
    "\n",
    "\n"
   ]
  },
  {
   "cell_type": "code",
   "execution_count": null,
   "metadata": {},
   "outputs": [],
   "source": []
  },
  {
   "cell_type": "code",
   "execution_count": 64,
   "metadata": {},
   "outputs": [
    {
     "name": "stdout",
     "output_type": "stream",
     "text": [
      "              df        sum_sq       mean_sq        F        PR(>F)\n",
      "BsmtCond     3.0  2.581809e+11  8.606031e+10  14.0306  5.136901e-09\n",
      "Residual  1419.0  8.703803e+12  6.133758e+09      NaN           NaN\n",
      "                  df        sum_sq       mean_sq          F        PR(>F)\n",
      "BsmtExposure     3.0  1.168770e+12  3.895900e+11  70.887984  1.022671e-42\n",
      "Residual      1418.0  7.793121e+12  5.495854e+09        NaN           NaN\n",
      "                  df        sum_sq       mean_sq          F        PR(>F)\n",
      "BsmtFinType1     5.0  1.726056e+12  3.452113e+11  67.602175  1.807731e-63\n",
      "Residual      1417.0  7.235927e+12  5.106512e+09        NaN           NaN\n",
      "                  df        sum_sq       mean_sq        F   PR(>F)\n",
      "BsmtFinType2     5.0  8.461509e+10  1.692302e+10  2.70245  0.01941\n",
      "Residual      1416.0  8.867136e+12  6.262101e+09      NaN      NaN\n"
     ]
    }
   ],
   "source": [
    "mod24=ols('SalePrice~ BsmtCond',data=data1).fit()\n",
    "anov_tabl24=sm.stats.anova_lm(mod24)\n",
    "print(anov_tabl24)\n",
    "#p-value = 5.136901e-09\n",
    "\n",
    "mod25=ols('SalePrice~ BsmtExposure',data=data1).fit()\n",
    "anov_tabl25=sm.stats.anova_lm(mod25)\n",
    "print(anov_tabl25)\n",
    "#p-value = 1.022671e-42\n",
    "\n",
    "mod26=ols('SalePrice~ BsmtFinType1',data=data1).fit()\n",
    "anov_tabl26=sm.stats.anova_lm(mod26)\n",
    "print(anov_tabl26)\n",
    "#p-value = 1.807731e-63\n",
    "\n",
    "mod27=ols('SalePrice~ BsmtFinType2',data=data1).fit()\n",
    "anov_tabl27=sm.stats.anova_lm(mod27)\n",
    "print(anov_tabl27)\n",
    "#p-value = 0.01941"
   ]
  },
  {
   "cell_type": "code",
   "execution_count": null,
   "metadata": {},
   "outputs": [],
   "source": []
  },
  {
   "cell_type": "code",
   "execution_count": 65,
   "metadata": {},
   "outputs": [
    {
     "name": "stdout",
     "output_type": "stream",
     "text": [
      "              df        sum_sq       mean_sq         F    PR(>F)\n",
      "Heating      5.0  1.329359e+11  2.658717e+10  4.259819  0.000753\n",
      "Residual  1454.0  9.074975e+12  6.241386e+09       NaN       NaN\n",
      "               df        sum_sq       mean_sq          F        PR(>F)\n",
      "HeatingQC     4.0  1.800151e+12  4.500378e+11  88.394462  2.667062e-67\n",
      "Residual   1455.0  7.407760e+12  5.091244e+09        NaN           NaN\n",
      "                df        sum_sq       mean_sq          F        PR(>F)\n",
      "CentralAir     1.0  5.816255e+11  5.816255e+11  98.305344  1.809506e-22\n",
      "Residual    1458.0  8.626286e+12  5.916520e+09        NaN           NaN\n",
      "                df        sum_sq       mean_sq          F        PR(>F)\n",
      "Electrical     4.0  5.494534e+11  1.373634e+11  23.067673  1.663249e-18\n",
      "Residual    1454.0  8.658278e+12  5.954799e+09        NaN           NaN\n"
     ]
    }
   ],
   "source": [
    "mod28=ols('SalePrice~ Heating',data=data1).fit()\n",
    "anov_tabl28=sm.stats.anova_lm(mod28)\n",
    "print(anov_tabl28)\n",
    "#p-value = 0.000753\n",
    "\n",
    "mod29=ols('SalePrice~ HeatingQC',data=data1).fit()\n",
    "anov_tabl29=sm.stats.anova_lm(mod29)\n",
    "print(anov_tabl29)\n",
    "#p-value = 2.667062e-67\n",
    "\n",
    "mod30=ols('SalePrice~ CentralAir',data=data1).fit()\n",
    "anov_tabl30=sm.stats.anova_lm(mod30)\n",
    "print(anov_tabl30)\n",
    "#p-value = 1.809506e-22\n",
    "\n",
    "mod31=ols('SalePrice~ Electrical',data=data1).fit()\n",
    "anov_tabl31=sm.stats.anova_lm(mod31)\n",
    "print(anov_tabl31)\n",
    "#p-value = 1.663249e-18"
   ]
  },
  {
   "cell_type": "code",
   "execution_count": null,
   "metadata": {},
   "outputs": [],
   "source": []
  },
  {
   "cell_type": "code",
   "execution_count": 66,
   "metadata": {},
   "outputs": [
    {
     "name": "stdout",
     "output_type": "stream",
     "text": [
      "                  df        sum_sq       mean_sq          F        PR(>F)\n",
      "BsmtFullBath     1.0  4.749856e+11  4.749856e+11  79.300912  1.550344e-18\n",
      "Residual      1458.0  8.732926e+12  5.989661e+09        NaN           NaN\n",
      "                  df        sum_sq       mean_sq         F    PR(>F)\n",
      "BsmtHalfBath     1.0  2.612520e+09  2.612520e+09  0.413789  0.520154\n",
      "Residual      1458.0  9.205299e+12  6.313648e+09       NaN       NaN\n",
      "              df        sum_sq       mean_sq           F         PR(>F)\n",
      "FullBath     1.0  2.894450e+12  2.894450e+12  668.430296  1.236470e-121\n",
      "Residual  1458.0  6.313461e+12  4.330220e+09         NaN            NaN\n",
      "              df        sum_sq       mean_sq           F        PR(>F)\n",
      "HalfBath     1.0  7.432366e+11  7.432366e+11  128.018964  1.650473e-28\n",
      "Residual  1458.0  8.464675e+12  5.805675e+09         NaN           NaN\n"
     ]
    }
   ],
   "source": [
    "mod32=ols('SalePrice~ BsmtFullBath',data=data1).fit()\n",
    "anov_tabl32=sm.stats.anova_lm(mod32)\n",
    "print(anov_tabl32)\n",
    "#p-value = 1.550344e-18\n",
    "\n",
    "\n",
    "mod33=ols('SalePrice~ BsmtHalfBath',data=data1).fit()\n",
    "anov_tabl33=sm.stats.anova_lm(mod33)\n",
    "print(anov_tabl33)\n",
    "#p-value = 0.520154\n",
    "\n",
    "mod34=ols('SalePrice~ FullBath',data=data1).fit()\n",
    "anov_tabl34=sm.stats.anova_lm(mod34)\n",
    "print(anov_tabl34)\n",
    "#p-value = 1.236470e-121\n",
    "\n",
    "mod35=ols('SalePrice~ HalfBath',data=data1).fit()\n",
    "anov_tabl35=sm.stats.anova_lm(mod35)\n",
    "print(anov_tabl35)\n",
    "#p-value = 1.650473e-28"
   ]
  },
  {
   "cell_type": "code",
   "execution_count": 67,
   "metadata": {},
   "outputs": [
    {
     "name": "stdout",
     "output_type": "stream",
     "text": [
      "                  df        sum_sq       mean_sq          F        PR(>F)\n",
      "BedroomAbvGr     1.0  2.605440e+11  2.605440e+11  42.456412  9.927497e-11\n",
      "Residual      1458.0  8.947367e+12  6.136740e+09        NaN           NaN\n",
      "                  df        sum_sq       mean_sq          F        PR(>F)\n",
      "KitchenAbvGr     1.0  1.700776e+11  1.700776e+11  27.437234  1.860426e-07\n",
      "Residual      1458.0  9.037834e+12  6.198789e+09        NaN           NaN\n",
      "                 df        sum_sq       mean_sq           F         PR(>F)\n",
      "KitchenQual     3.0  4.204320e+12  1.401440e+12  407.806352  3.032213e-192\n",
      "Residual     1456.0  5.003592e+12  3.436533e+09         NaN            NaN\n",
      "                  df        sum_sq       mean_sq           F         PR(>F)\n",
      "TotRmsAbvGrd     1.0  2.622969e+12  2.622969e+12  580.762801  2.772281e-108\n",
      "Residual      1458.0  6.584942e+12  4.516421e+09         NaN            NaN\n"
     ]
    }
   ],
   "source": [
    "mod36=ols('SalePrice~ BedroomAbvGr',data=data1).fit()\n",
    "anov_tabl36=sm.stats.anova_lm(mod36)\n",
    "print(anov_tabl36)\n",
    "#p-value = 9.927497e-11\n",
    "\n",
    "mod37=ols('SalePrice~ KitchenAbvGr',data=data1).fit()\n",
    "anov_tabl37=sm.stats.anova_lm(mod37)\n",
    "print(anov_tabl37)\n",
    "#p-value = 1.860426e-07\n",
    "\n",
    "mod38=ols('SalePrice~ KitchenQual',data=data1).fit()\n",
    "anov_tabl38=sm.stats.anova_lm(mod38)\n",
    "print(anov_tabl38)\n",
    "#p-value = 3.032213e-192\n",
    "\n",
    "mod39=ols('SalePrice~ TotRmsAbvGrd',data=data1).fit()\n",
    "anov_tabl39=sm.stats.anova_lm(mod39)\n",
    "print(anov_tabl39)\n",
    "#p-value = 2.772281e-108"
   ]
  },
  {
   "cell_type": "code",
   "execution_count": 68,
   "metadata": {},
   "outputs": [
    {
     "name": "stdout",
     "output_type": "stream",
     "text": [
      "                df        sum_sq       mean_sq         F    PR(>F)\n",
      "Functional     6.0  1.517499e+11  2.529166e+10  4.057875  0.000484\n",
      "Residual    1453.0  9.056161e+12  6.232733e+09       NaN       NaN\n",
      "                df        sum_sq       mean_sq           F        PR(>F)\n",
      "Fireplaces     1.0  2.007532e+12  2.007532e+12  406.503866  6.141487e-80\n",
      "Residual    1458.0  7.200379e+12  4.938532e+09         NaN           NaN\n",
      "                df        sum_sq       mean_sq          F        PR(>F)\n",
      "FireplaceQu    4.0  6.561883e+11  1.640471e+11  24.398929  5.016300e-19\n",
      "Residual     765.0  5.143505e+12  6.723535e+09        NaN           NaN\n",
      "                df        sum_sq       mean_sq          F        PR(>F)\n",
      "GarageType     5.0  1.778186e+12  3.556371e+11  71.522123  1.247154e-66\n",
      "Residual    1373.0  6.827115e+12  4.972407e+09        NaN           NaN\n"
     ]
    }
   ],
   "source": [
    "mod40=ols('SalePrice~ Functional',data=data1).fit()\n",
    "anov_tabl40=sm.stats.anova_lm(mod40)\n",
    "print(anov_tabl40)\n",
    "#p-value = 0.000484\n",
    "\n",
    "mod41=ols('SalePrice~ Fireplaces',data=data1).fit()\n",
    "anov_tabl41=sm.stats.anova_lm(mod41)\n",
    "print(anov_tabl41)\n",
    "#p-value = 6.141487e-80\n",
    "\n",
    "mod42=ols('SalePrice~ FireplaceQu',data=data1).fit()\n",
    "anov_tabl42=sm.stats.anova_lm(mod42)\n",
    "print(anov_tabl42)\n",
    "#p-value = 5.016300e-19\n",
    "\n",
    "mod43=ols('SalePrice~ GarageType',data=data1).fit()\n",
    "anov_tabl43=sm.stats.anova_lm(mod43)\n",
    "print(anov_tabl43)\n",
    "#p-value = 1.247154e-66"
   ]
  },
  {
   "cell_type": "code",
   "execution_count": 69,
   "metadata": {},
   "outputs": [
    {
     "name": "stdout",
     "output_type": "stream",
     "text": [
      "                  df        sum_sq       mean_sq           F        PR(>F)\n",
      "GarageFinish     2.0  2.299993e+12  1.149997e+12  250.962467  1.199117e-93\n",
      "Residual      1376.0  6.305307e+12  4.582345e+09         NaN           NaN\n",
      "                df        sum_sq       mean_sq            F         PR(>F)\n",
      "GarageCars     1.0  3.776385e+12  3.776385e+12  1013.705666  2.498644e-169\n",
      "Residual    1458.0  5.431526e+12  3.725327e+09          NaN            NaN\n",
      "                df        sum_sq       mean_sq         F        PR(>F)\n",
      "GarageQual     4.0  2.332568e+11  5.831420e+10  9.570389  1.240803e-07\n",
      "Residual    1374.0  8.372044e+12  6.093190e+09       NaN           NaN\n",
      "                df        sum_sq       mean_sq         F        PR(>F)\n",
      "GarageCond     4.0  2.325637e+11  5.814092e+10  9.541161  1.309714e-07\n",
      "Residual    1374.0  8.372737e+12  6.093695e+09       NaN           NaN\n"
     ]
    }
   ],
   "source": [
    "mod44=ols('SalePrice~ GarageFinish',data=data1).fit()\n",
    "anov_tabl44=sm.stats.anova_lm(mod44)\n",
    "print(anov_tabl44)\n",
    "#p-value = 1.199117e-93\n",
    "\n",
    "mod45=ols('SalePrice~ GarageCars',data=data1).fit()\n",
    "anov_tabl45=sm.stats.anova_lm(mod45)\n",
    "print(anov_tabl45)\n",
    "#p-value = 2.498644e-169\n",
    "\n",
    "mod46=ols('SalePrice~ GarageQual',data=data1).fit()\n",
    "anov_tabl46=sm.stats.anova_lm(mod46)\n",
    "print(anov_tabl46)\n",
    "#p-value = 1.240803e-07\n",
    "\n",
    "mod47=ols('SalePrice~ GarageCond',data=data1).fit()\n",
    "anov_tabl47=sm.stats.anova_lm(mod47)\n",
    "print(anov_tabl47)\n",
    "#p-value = 1.309714e-07"
   ]
  },
  {
   "cell_type": "code",
   "execution_count": 70,
   "metadata": {},
   "outputs": [
    {
     "name": "stdout",
     "output_type": "stream",
     "text": [
      "                df        sum_sq       mean_sq          F        PR(>F)\n",
      "PavedDrive     2.0  5.021970e+11  2.510985e+11  42.024179  1.803569e-18\n",
      "Residual    1457.0  8.705714e+12  5.975096e+09        NaN           NaN\n",
      "              df        sum_sq       mean_sq         F    PR(>F)\n",
      "MoSold       1.0  1.985183e+10  1.985183e+10  3.150172  0.076128\n",
      "Residual  1458.0  9.188060e+12  6.301824e+09       NaN       NaN\n",
      "              df        sum_sq       mean_sq         F    PR(>F)\n",
      "YrSold       1.0  7.702565e+09  7.702565e+09  1.220661  0.269413\n",
      "Residual  1458.0  9.200209e+12  6.310157e+09       NaN       NaN\n",
      "              df        sum_sq       mean_sq          F        PR(>F)\n",
      "SaleType     8.0  1.264131e+12  1.580164e+11  28.863054  5.039767e-42\n",
      "Residual  1451.0  7.943780e+12  5.474694e+09        NaN           NaN\n"
     ]
    }
   ],
   "source": [
    "mod48=ols('SalePrice~ PavedDrive',data=data1).fit()\n",
    "anov_tabl48=sm.stats.anova_lm(mod48)\n",
    "print(anov_tabl48)\n",
    "#p-value = 1.803569e-18\n",
    "\n",
    "mod49=ols('SalePrice~ MoSold',data=data1).fit()\n",
    "anov_tabl49=sm.stats.anova_lm(mod49)\n",
    "print(anov_tabl49)\n",
    "#p-value = 0.076128\n",
    "\n",
    "mod50=ols('SalePrice~ YrSold',data=data1).fit()\n",
    "anov_tabl50=sm.stats.anova_lm(mod50)\n",
    "print(anov_tabl50)\n",
    "#p-value = 0.269413\n",
    "\n",
    "mod51=ols('SalePrice~ SaleType',data=data1).fit()\n",
    "anov_tabl51=sm.stats.anova_lm(mod51)\n",
    "print(anov_tabl51)\n",
    "#p-value = 5.039767e-42"
   ]
  },
  {
   "cell_type": "code",
   "execution_count": null,
   "metadata": {},
   "outputs": [],
   "source": [
    "# high p-value cols: YrSold,MoSold,BsmtHalfBath,Condition2, LandSlope,Utilities,Street"
   ]
  }
 ],
 "metadata": {
  "kernelspec": {
   "display_name": "Python 3",
   "language": "python",
   "name": "python3"
  },
  "language_info": {
   "codemirror_mode": {
    "name": "ipython",
    "version": 3
   },
   "file_extension": ".py",
   "mimetype": "text/x-python",
   "name": "python",
   "nbconvert_exporter": "python",
   "pygments_lexer": "ipython3",
   "version": "3.7.4"
  }
 },
 "nbformat": 4,
 "nbformat_minor": 2
}
